{
  "nbformat": 4,
  "nbformat_minor": 0,
  "metadata": {
    "colab": {
      "name": "백준_소수찾기_1978.ipynb",
      "provenance": [],
      "include_colab_link": true
    },
    "kernelspec": {
      "name": "python3",
      "display_name": "Python 3"
    },
    "language_info": {
      "name": "python"
    }
  },
  "cells": [
    {
      "cell_type": "markdown",
      "metadata": {
        "id": "view-in-github",
        "colab_type": "text"
      },
      "source": [
        "<a href=\"https://colab.research.google.com/github/dlskawns/Engineering_algorithm/blob/main/%EB%B0%B1%EC%A4%80_%EC%86%8C%EC%88%98%EC%B0%BE%EA%B8%B0_1978.ipynb\" target=\"_parent\"><img src=\"https://colab.research.google.com/assets/colab-badge.svg\" alt=\"Open In Colab\"/></a>"
      ]
    },
    {
      "cell_type": "markdown",
      "source": [
        "# 문제\n",
        "주어진 수 N개 중에서 소수가 몇 개인지 찾아서 출력하는 프로그램을 작성하시오.\n",
        "\n",
        "\n",
        "## 입력\n",
        "첫 줄에 수의 개수 N이 주어진다. N은 100이하이다. 다음으로 N개의 수가 주어지는데 수는 1,000 이하의 자연수이다.\n",
        "\n",
        "\n",
        "## 출력\n",
        "주어진 수들 중 소수의 개수를 출력한다."
      ],
      "metadata": {
        "id": "-TRRlZ5wfWVw"
      }
    },
    {
      "cell_type": "code",
      "execution_count": 1,
      "metadata": {
        "id": "Oa8Cks8JfVqJ",
        "outputId": "10c4352a-faa5-4bc0-f1e5-6f7bbb6916fa",
        "colab": {
          "base_uri": "https://localhost:8080/"
        }
      },
      "outputs": [
        {
          "output_type": "stream",
          "name": "stdout",
          "text": [
            "4\n",
            "1\n",
            "30\n",
            "17\n",
            "19\n",
            "3\n"
          ]
        }
      ],
      "source": [
        "lst = []\n",
        "for _ in range(int(input())):\n",
        "  a = int(input())\n",
        "  if (a % 2 == 0) or (a % 3 == 0) or (a % 5 == 0):\n",
        "    pass\n",
        "  else:\n",
        "    lst.append(a)\n",
        "print(len(lst))"
      ]
    },
    {
      "cell_type": "code",
      "source": [
        "def input_num(x):\n",
        "  lst = []\n",
        "  # for _ in range(int(x)):\n",
        "  #   a = int(input())\n",
        "  a= list(map(int, input().split()))\n",
        "\n",
        "  for i in a:\n",
        "    if (i == 2) or (i == 3) or (i == 5):\n",
        "      if i in lst:\n",
        "        continue\n",
        "      lst.append(i)\n",
        "    elif (i != 1) and (i % 2 != 0) and (i % 3 != 0) and (i % 5 != 0):\n",
        "      lst.append(i)\n",
        "  cnt = len(lst) \n",
        "  for i in lst:\n",
        "    for j in lst:\n",
        "      if i != j and i % j == 0:\n",
        "        cnt -= 1\n",
        "\n",
        "  return cnt\n"
      ],
      "metadata": {
        "id": "DIBy-R0jM67E"
      },
      "execution_count": 29,
      "outputs": []
    },
    {
      "cell_type": "code",
      "source": [
        ""
      ],
      "metadata": {
        "id": "edVNZVnJa_8b",
        "outputId": "a66a64b9-2838-42ef-86ee-4a69a770d216",
        "colab": {
          "base_uri": "https://localhost:8080/"
        }
      },
      "execution_count": 32,
      "outputs": [
        {
          "output_type": "stream",
          "name": "stdout",
          "text": [
            "2\n"
          ]
        }
      ]
    },
    {
      "cell_type": "code",
      "source": [
        "input_num(input())"
      ],
      "metadata": {
        "id": "hQ6Io4MqNDXr"
      },
      "execution_count": null,
      "outputs": []
    },
    {
      "cell_type": "code",
      "source": [
        "lst = []\n",
        "n = input()\n",
        "a= list(map(int, input().split()))\n",
        "cnt = len(a)\n",
        "\n",
        "for i in a:\n",
        "  P = 0\n",
        "\n",
        "  if i > 1:\n",
        "    for j in range(2,i):\n",
        "      if i%j ==0:\n",
        "        P += 1\n",
        "    if P != 0:\n",
        "      cnt -= 1\n",
        "  elif i == 1:\n",
        "    cnt -= 1\n",
        "print(cnt)\n",
        "\n",
        "        \n",
        "      "
      ],
      "metadata": {
        "id": "7WoN5iyLN8s4",
        "outputId": "bb2f7dbf-16d9-4238-ea6f-baaebc947ed6",
        "colab": {
          "base_uri": "https://localhost:8080/"
        }
      },
      "execution_count": 36,
      "outputs": [
        {
          "output_type": "stream",
          "name": "stdout",
          "text": [
            "10\n",
            "1 3 10 11 17 19 121 144 139 73 93\n",
            "6\n"
          ]
        }
      ]
    },
    {
      "cell_type": "code",
      "source": [
        "lst"
      ],
      "metadata": {
        "id": "_1JW2OWAOGAy",
        "outputId": "f83e8c64-6bd3-4532-8a4a-00d76d681028",
        "colab": {
          "base_uri": "https://localhost:8080/"
        }
      },
      "execution_count": 7,
      "outputs": [
        {
          "output_type": "execute_result",
          "data": {
            "text/plain": [
              "[17, 19]"
            ]
          },
          "metadata": {},
          "execution_count": 7
        }
      ]
    },
    {
      "cell_type": "code",
      "source": [
        ""
      ],
      "metadata": {
        "id": "7LN8CSGJOK0i"
      },
      "execution_count": null,
      "outputs": []
    }
  ]
}