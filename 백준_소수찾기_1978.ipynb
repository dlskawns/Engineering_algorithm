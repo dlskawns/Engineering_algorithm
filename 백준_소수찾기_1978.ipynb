{
  "nbformat": 4,
  "nbformat_minor": 0,
  "metadata": {
    "colab": {
      "name": "백준_소수찾기_1978.ipynb",
      "provenance": [],
      "include_colab_link": true
    },
    "kernelspec": {
      "name": "python3",
      "display_name": "Python 3"
    },
    "language_info": {
      "name": "python"
    }
  },
  "cells": [
    {
      "cell_type": "markdown",
      "metadata": {
        "id": "view-in-github",
        "colab_type": "text"
      },
      "source": [
        "<a href=\"https://colab.research.google.com/github/dlskawns/Engineering_algorithm/blob/main/%EB%B0%B1%EC%A4%80_%EC%86%8C%EC%88%98%EC%B0%BE%EA%B8%B0_1978.ipynb\" target=\"_parent\"><img src=\"https://colab.research.google.com/assets/colab-badge.svg\" alt=\"Open In Colab\"/></a>"
      ]
    },
    {
      "cell_type": "markdown",
      "source": [
        "# 문제\n",
        "주어진 수 N개 중에서 소수가 몇 개인지 찾아서 출력하는 프로그램을 작성하시오.\n",
        "\n",
        "\n",
        "## 입력\n",
        "첫 줄에 수의 개수 N이 주어진다. N은 100이하이다. 다음으로 N개의 수가 주어지는데 수는 1,000 이하의 자연수이다.\n",
        "\n",
        "\n",
        "## 출력\n",
        "주어진 수들 중 소수의 개수를 출력한다."
      ],
      "metadata": {
        "id": "-TRRlZ5wfWVw"
      }
    },
    {
      "cell_type": "code",
      "execution_count": 5,
      "metadata": {
        "id": "Oa8Cks8JfVqJ",
        "outputId": "d7ca8d86-d45d-4e32-8a47-5e04bb52f03f",
        "colab": {
          "base_uri": "https://localhost:8080/"
        }
      },
      "outputs": [
        {
          "output_type": "stream",
          "name": "stdout",
          "text": [
            "4\n",
            "23\n",
            "19\n",
            "22\n",
            "1\n",
            "3\n"
          ]
        }
      ],
      "source": [
        "lst = []\n",
        "for _ in range(int(input())):\n",
        "  a = int(input())\n",
        "  if (a % 2 == 0) or (a % 3 == 0) or (a % 5 == 0):\n",
        "    pass\n",
        "  else:\n",
        "    lst.append(a)\n",
        "print(len(lst))"
      ]
    }
  ]
}