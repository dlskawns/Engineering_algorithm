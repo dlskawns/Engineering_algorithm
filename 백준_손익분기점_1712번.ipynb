{
  "nbformat": 4,
  "nbformat_minor": 0,
  "metadata": {
    "colab": {
      "name": "백준_손익분기점_1712번.ipynb",
      "provenance": [],
      "authorship_tag": "ABX9TyPWBnS0dWQT5o3CX2lI2LBb",
      "include_colab_link": true
    },
    "kernelspec": {
      "name": "python3",
      "display_name": "Python 3"
    },
    "language_info": {
      "name": "python"
    }
  },
  "cells": [
    {
      "cell_type": "markdown",
      "metadata": {
        "id": "view-in-github",
        "colab_type": "text"
      },
      "source": [
        "<a href=\"https://colab.research.google.com/github/dlskawns/Engineering_algorithm/blob/main/%EB%B0%B1%EC%A4%80_%EC%86%90%EC%9D%B5%EB%B6%84%EA%B8%B0%EC%A0%90_1712%EB%B2%88.ipynb\" target=\"_parent\"><img src=\"https://colab.research.google.com/assets/colab-badge.svg\" alt=\"Open In Colab\"/></a>"
      ]
    },
    {
      "cell_type": "markdown",
      "source": [
        "# 문제\n",
        "월드전자는 노트북을 제조하고 판매하는 회사이다. 노트북 판매 대수에 상관없이 매년 임대료, 재산세, 보험료, 급여 등 A만원의 고정 비용이 들며, 한 대의 노트북을 생산하는 데에는 재료비와 인건비 등 총 B만원의 가변 비용이 든다고 한다.\n",
        "\n",
        "예를 들어 A=1,000, B=70이라고 하자. 이 경우 노트북을 한 대 생산하는 데는 총 1,070만원이 들며, 열 대 생산하는 데는 총 1,700만원이 든다.\n",
        "\n",
        "노트북 가격이 C만원으로 책정되었다고 한다. 일반적으로 생산 대수를 늘려 가다 보면 어느 순간 총 수입(판매비용)이 총 비용(=고정비용+가변비용)보다 많아지게 된다. 최초로 총 수입이 총 비용보다 많아져 이익이 발생하는 지점을 손익분기점(BREAK-EVEN POINT)이라고 한다.\n",
        "\n",
        "A, B, C가 주어졌을 때, 손익분기점을 구하는 프로그램을 작성하시오.\n",
        "\n",
        "## 입력\n",
        "첫째 줄에 A, B, C가 빈 칸을 사이에 두고 순서대로 주어진다. A, B, C는 21억 이하의 자연수이다.\n",
        "\n",
        "\n",
        "## 출력\n",
        "첫 번째 줄에 손익분기점 즉 최초로 이익이 발생하는 판매량을 출력한다. 손익분기점이 존재하지 않으면 -1을 출력한다."
      ],
      "metadata": {
        "id": "5dzB4zxUcEid"
      }
    },
    {
      "cell_type": "code",
      "execution_count": null,
      "metadata": {
        "id": "AVuJGnR2cCh9"
      },
      "outputs": [],
      "source": [
        "#매년 고정비\n",
        "임대료\n",
        "재산세\n",
        "보험료\n",
        "급여\n",
        "= A만원\n",
        "\n",
        "#노트북 한대 가변비\n",
        "재료비\n",
        "인건비\n",
        "= B만원\n",
        "\n",
        "총 수입(매출액) > 총 비용(고정비+가변비)\n",
        "\n",
        "\n",
        "예시코드\n",
        "100만원\n",
        "2만원\n",
        "3만원(수익 1만원)"
      ]
    },
    {
      "cell_type": "code",
      "source": [
        "def cal(a,b,c):\n",
        "  if b >=c:\n",
        "    return -1\n",
        "  else:\n",
        "    return a//(c-b)+1"
      ],
      "metadata": {
        "id": "DQP_gvV6pACG"
      },
      "execution_count": null,
      "outputs": []
    },
    {
      "cell_type": "code",
      "source": [
        "import math\n",
        "a = 10000000000000\n",
        "b = 300000\n",
        "c = 400000\n",
        "\n",
        "def cal(a,b,c):\n",
        "  # a = a/(10*len(str(a)))\n",
        "  # b = b/(10*len(str(b)))\n",
        "  # c = c/(10*len(str(c)))\n",
        "  for n in range(a//c, 2100000000):\n",
        "    if b >= c:\n",
        "      return -1\n",
        "    elif a + b*n < c*n:\n",
        "      return n\n",
        "\n",
        "a,b,c = map(int, input().split(' '))\n",
        "cal(a,b,c)"
      ],
      "metadata": {
        "colab": {
          "base_uri": "https://localhost:8080/"
        },
        "id": "xvyfSStMdI16",
        "outputId": "765a467a-f406-4860-d681-fe215eeb3119"
      },
      "execution_count": 73,
      "outputs": [
        {
          "name": "stdout",
          "output_type": "stream",
          "text": [
            "1000 3 4\n"
          ]
        },
        {
          "output_type": "execute_result",
          "data": {
            "text/plain": [
              "1001"
            ]
          },
          "metadata": {},
          "execution_count": 73
        }
      ]
    },
    {
      "cell_type": "code",
      "source": [
        "1000//(4-3)+1"
      ],
      "metadata": {
        "colab": {
          "base_uri": "https://localhost:8080/"
        },
        "id": "RC9s1Q29pTCo",
        "outputId": "3bdf77c0-0f91-4cca-98aa-0c223f08a789"
      },
      "execution_count": 74,
      "outputs": [
        {
          "output_type": "execute_result",
          "data": {
            "text/plain": [
              "1001"
            ]
          },
          "metadata": {},
          "execution_count": 74
        }
      ]
    },
    {
      "cell_type": "code",
      "source": [
        "cal(a,b,c)"
      ],
      "metadata": {
        "colab": {
          "base_uri": "https://localhost:8080/"
        },
        "id": "wt0WYje4f4-f",
        "outputId": "75f4f859-c0bc-48b4-9fa8-a02ae1e20088"
      },
      "execution_count": 46,
      "outputs": [
        {
          "output_type": "execute_result",
          "data": {
            "text/plain": [
              "100000001"
            ]
          },
          "metadata": {},
          "execution_count": 46
        }
      ]
    },
    {
      "cell_type": "code",
      "source": [
        "import math\n",
        "from sympy import Symbol, solve\n",
        "a = 10000000000000\n",
        "b = 300000\n",
        "c = 300001\n",
        "\n",
        "def cal(a,b,c):\n",
        "  # a = a/(10*len(str(a)))\n",
        "  # b = b/(10*len(str(b)))\n",
        "  # c = c/(10*len(str(c)))\n",
        "  x = Symbol('x')\n",
        "  if b >= c:\n",
        "    return -1\n",
        "  else:\n",
        "    form = a+b*x-(c*x)\n",
        "    ans = solve(form)\n",
        "    return ans[0]+1\n",
        "  "
      ],
      "metadata": {
        "id": "1c3r5A1CgA8q"
      },
      "execution_count": 68,
      "outputs": []
    },
    {
      "cell_type": "code",
      "source": [
        "cal(a,b,c)"
      ],
      "metadata": {
        "colab": {
          "base_uri": "https://localhost:8080/",
          "height": 37
        },
        "id": "iMNwkpZmlKbf",
        "outputId": "af7249c4-0118-4559-9391-3cdb6c436784"
      },
      "execution_count": 67,
      "outputs": [
        {
          "output_type": "execute_result",
          "data": {
            "text/plain": [
              "10000000000001"
            ],
            "text/latex": "$\\displaystyle 10000000000001$"
          },
          "metadata": {},
          "execution_count": 67
        }
      ]
    },
    {
      "cell_type": "code",
      "source": [
        ""
      ],
      "metadata": {
        "id": "UZTNrEiEmkwZ"
      },
      "execution_count": null,
      "outputs": []
    }
  ]
}