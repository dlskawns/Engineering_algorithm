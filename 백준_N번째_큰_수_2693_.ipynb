{
  "nbformat": 4,
  "nbformat_minor": 0,
  "metadata": {
    "colab": {
      "name": "백준_N번째 큰 수_2693 .ipynb",
      "provenance": [],
      "authorship_tag": "ABX9TyPxScOxd72IZYe6ncTtdB2z",
      "include_colab_link": true
    },
    "kernelspec": {
      "name": "python3",
      "display_name": "Python 3"
    },
    "language_info": {
      "name": "python"
    }
  },
  "cells": [
    {
      "cell_type": "markdown",
      "metadata": {
        "id": "view-in-github",
        "colab_type": "text"
      },
      "source": [
        "<a href=\"https://colab.research.google.com/github/dlskawns/Engineering_algorithm/blob/main/%EB%B0%B1%EC%A4%80_N%EB%B2%88%EC%A7%B8_%ED%81%B0_%EC%88%98_2693_.ipynb\" target=\"_parent\"><img src=\"https://colab.research.google.com/assets/colab-badge.svg\" alt=\"Open In Colab\"/></a>"
      ]
    },
    {
      "cell_type": "markdown",
      "source": [
        "## 문제\n",
        "배열 A가 주어졌을 때, N번째 큰 값을 출력하는 프로그램을 작성하시오.\n",
        "\n",
        "배열 A의 크기는 항상 10이고, 자연수만 가지고 있다. N은 항상 3이다.\n",
        "\n",
        "\n",
        "## 입력\n",
        "첫째 줄에 테스트 케이스의 개수 T(1 ≤ T ≤ 1,000)가 주어진다. 각 테스트 케이스는 한 줄로 이루어져 있고, 배열 A의 원소 10개가 공백으로 구분되어 주어진다. 이 원소는 1보다 크거나 같고, 1,000보다 작거나 같은 자연수이다.\n",
        "\n",
        "\n",
        "4  \n",
        "1 2 3 4 5 6 7 8 9 1000  \n",
        "338 304 619 95 343 496 489 116 98 127  \n",
        "931 240 986 894 826 640 965 833 136 138  \n",
        "940 955 364 188 133 254 501 122 768 408  \n",
        "\n",
        "\n",
        "## 출력\n",
        "각 테스트 케이스에 대해 한 줄에 하나씩 배열 A에서 3번째 큰 값을 출력한다.\n",
        "\n",
        "8  \n",
        "489  \n",
        "931  \n",
        "768  "
      ],
      "metadata": {
        "id": "mo5crmp69ZFY"
      }
    },
    {
      "cell_type": "code",
      "execution_count": 2,
      "metadata": {
        "colab": {
          "base_uri": "https://localhost:8080/"
        },
        "id": "6rnoci1y65u4",
        "outputId": "43ade5ce-218d-41c6-cdd7-4ec9e2c904b8"
      },
      "outputs": [
        {
          "output_type": "stream",
          "name": "stdout",
          "text": [
            "4\n",
            "1 2 3 4 5 6 7 8 9 1000\n",
            "8\n",
            "338 304 619 95 343 496 489 116 98 127\n",
            "489\n",
            "931 240 986 894 826 640 965 833 136 138\n",
            "931\n",
            "940 955 364 188 133 254 501 122 768 408\n",
            "768\n"
          ]
        }
      ],
      "source": [
        "for _ in range(int(input())):\n",
        "  print(sorted(list(map(int, input().split(' '))))[-3])"
      ]
    },
    {
      "cell_type": "code",
      "source": [
        ""
      ],
      "metadata": {
        "id": "nPC6aPCZ-7S2"
      },
      "execution_count": null,
      "outputs": []
    }
  ]
}