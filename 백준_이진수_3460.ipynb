{
  "nbformat": 4,
  "nbformat_minor": 0,
  "metadata": {
    "colab": {
      "name": "백준_이진수 3460.ipynb",
      "provenance": [],
      "authorship_tag": "ABX9TyO7aM6tYBN96N5k93z8IMuJ",
      "include_colab_link": true
    },
    "kernelspec": {
      "name": "python3",
      "display_name": "Python 3"
    },
    "language_info": {
      "name": "python"
    }
  },
  "cells": [
    {
      "cell_type": "markdown",
      "metadata": {
        "id": "view-in-github",
        "colab_type": "text"
      },
      "source": [
        "<a href=\"https://colab.research.google.com/github/dlskawns/Engineering_algorithm/blob/main/%EB%B0%B1%EC%A4%80_%EC%9D%B4%EC%A7%84%EC%88%98_3460.ipynb\" target=\"_parent\"><img src=\"https://colab.research.google.com/assets/colab-badge.svg\" alt=\"Open In Colab\"/></a>"
      ]
    },
    {
      "cell_type": "markdown",
      "source": [
        "## 문제\n",
        "\n",
        "양의 정수 n이 주어졌을 때, 이를 이진수로 나타냈을 때 1의 위치를 모두 찾는 프로그램을 작성하시오. 최하위 비트(least significant bit, lsb)의 위치는 0이다.\n",
        "\n",
        "## 입력\n",
        "첫째 줄에 테스트 케이스의 개수 T가 주어진다. 각 테스트 케이스는 한 줄로 이루어져 있고, n이 주어진다. (1 ≤ T ≤ 10, 1 ≤ n ≤ 106)\n",
        "\n",
        "1  \n",
        "13\n",
        "\n",
        "\n",
        "## 출력\n",
        "각 테스트 케이스에 대해서, 1의 위치를 공백으로 구분해서 줄 하나에 출력한다. 위치가 낮은 것부터 출력한다.\n",
        "\n",
        "0 2 3"
      ],
      "metadata": {
        "id": "QYLvFILp6Ai7"
      }
    },
    {
      "cell_type": "markdown",
      "source": [
        "#### 이진수로 표현하는 법\n",
        "\n",
        "2 = 10  \n",
        "4 = 100  \n",
        "8 = 1000  \n",
        "10 = 1010  \n",
        "11 = 1011  "
      ],
      "metadata": {
        "id": "8WcNFzd96WO0"
      }
    },
    {
      "cell_type": "code",
      "source": [
        "\n",
        "for _ in range(int(input())):\n",
        "  n = input()\n",
        "  bin_n = bin(int(n))[2:][::-1]\n",
        "  idx_lst = []\n",
        "  idx = 0\n",
        "  while idx <len(bin_n):\n",
        "    if bin_n[idx] =='1':\n",
        "      idx_lst.append(str(idx))\n",
        "    idx += 1\n",
        "  idx_lst = ' '.join(idx_lst)\n",
        "  print(idx_lst)"
      ],
      "metadata": {
        "colab": {
          "base_uri": "https://localhost:8080/"
        },
        "id": "brcpTJJbn_1A",
        "outputId": "9eff2c6f-9d1b-40d8-b862-e5639abd23a8"
      },
      "execution_count": 121,
      "outputs": [
        {
          "output_type": "stream",
          "name": "stdout",
          "text": [
            "2\n",
            "13\n",
            "0 2 3\n",
            "12\n",
            "2 3\n"
          ]
        }
      ]
    }
  ]
}