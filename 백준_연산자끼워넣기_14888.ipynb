{
  "nbformat": 4,
  "nbformat_minor": 0,
  "metadata": {
    "colab": {
      "name": "백준_연산자끼워넣기_14888.ipynb",
      "provenance": [],
      "include_colab_link": true
    },
    "kernelspec": {
      "name": "python3",
      "display_name": "Python 3"
    },
    "language_info": {
      "name": "python"
    }
  },
  "cells": [
    {
      "cell_type": "markdown",
      "metadata": {
        "id": "view-in-github",
        "colab_type": "text"
      },
      "source": [
        "<a href=\"https://colab.research.google.com/github/dlskawns/Engineering_algorithm/blob/main/%EB%B0%B1%EC%A4%80_%EC%97%B0%EC%82%B0%EC%9E%90%EB%81%BC%EC%9B%8C%EB%84%A3%EA%B8%B0_14888.ipynb\" target=\"_parent\"><img src=\"https://colab.research.google.com/assets/colab-badge.svg\" alt=\"Open In Colab\"/></a>"
      ]
    },
    {
      "cell_type": "markdown",
      "source": [
        "# 문제\n",
        "N개의 수로 이루어진 수열 A1, A2, ..., AN이 주어진다. 또, 수와 수 사이에 끼워넣을 수 있는 N-1개의 연산자가 주어진다. 연산자는 덧셈(+), 뺄셈(-), 곱셈(×), 나눗셈(÷)으로만 이루어져 있다.\n",
        "\n",
        "우리는 수와 수 사이에 연산자를 하나씩 넣어서, 수식을 하나 만들 수 있다. 이때, 주어진 수의 순서를 바꾸면 안 된다.\n",
        "\n",
        "예를 들어, 6개의 수로 이루어진 수열이 1, 2, 3, 4, 5, 6이고, 주어진 연산자가 덧셈(+) 2개, 뺄셈(-) 1개, 곱셈(×) 1개, 나눗셈(÷) 1개인 경우에는 총 60가지의 식을 만들 수 있다. 예를 들어, 아래와 같은 식을 만들 수 있다.\n",
        "\n",
        "1+2+3-4×5÷6\n",
        "1÷2+3+4-5×6\n",
        "1+2÷3×4-5+6\n",
        "1÷2×3-4+5+6\n",
        "식의 계산은 연산자 우선 순위를 무시하고 앞에서부터 진행해야 한다. 또, 나눗셈은 정수 나눗셈으로 몫만 취한다. 음수를 양수로 나눌 때는 C++14의 기준을 따른다. 즉, 양수로 바꾼 뒤 몫을 취하고, 그 몫을 음수로 바꾼 것과 같다. 이에 따라서, 위의 식 4개의 결과를 계산해보면 아래와 같다.\n",
        "\n",
        "1+2+3-4×5÷6 = 1\n",
        "1÷2+3+4-5×6 = 12\n",
        "1+2÷3×4-5+6 = 5\n",
        "1÷2×3-4+5+6 = 7\n",
        "N개의 수와 N-1개의 연산자가 주어졌을 때, 만들 수 있는 식의 결과가 최대인 것과 최소인 것을 구하는 프로그램을 작성하시오.\n",
        "\n",
        "## 입력\n",
        "첫째 줄에 수의 개수 N(2 ≤ N ≤ 11)가 주어진다. 둘째 줄에는 A1, A2, ..., AN이 주어진다. (1 ≤ Ai ≤ 100) 셋째 줄에는 합이 N-1인 4개의 정수가 주어지는데, 차례대로 덧셈(+)의 개수, 뺄셈(-)의 개수, 곱셈(×)의 개수, 나눗셈(÷)의 개수이다. \n",
        "\n",
        "\n",
        "## 출력\n",
        "첫째 줄에 만들 수 있는 식의 결과의 최댓값을, 둘째 줄에는 최솟값을 출력한다. 연산자를 어떻게 끼워넣어도 항상 -10억보다 크거나 같고, 10억보다 작거나 같은 결과가 나오는 입력만 주어진다. 또한, 앞에서부터 계산했을 때, 중간에 계산되는 식의 결과도 항상 -10억보다 크거나 같고, 10억보다 작거나 같다."
      ],
      "metadata": {
        "id": "EejnABIoLtw8"
      }
    },
    {
      "cell_type": "code",
      "source": [
        "def devide(x,y):\n",
        "  if x <0:\n",
        "    \n",
        "    return -(-x//y)\n",
        "\n",
        "\n",
        "devide(-29,5)"
      ],
      "metadata": {
        "id": "-oimWJxqGAdk",
        "outputId": "8e421ac9-638d-4a96-f2c5-0b47c7689c31",
        "colab": {
          "base_uri": "https://localhost:8080/"
        }
      },
      "execution_count": 4,
      "outputs": [
        {
          "output_type": "execute_result",
          "data": {
            "text/plain": [
              "-5"
            ]
          },
          "metadata": {},
          "execution_count": 4
        }
      ]
    },
    {
      "cell_type": "code",
      "source": [
        ""
      ],
      "metadata": {
        "id": "uuKwc0hcKorW",
        "outputId": "95c635be-765a-4a44-b1a4-3452c66ec908",
        "colab": {
          "base_uri": "https://localhost:8080/",
          "height": 134
        }
      },
      "execution_count": 10,
      "outputs": [
        {
          "output_type": "error",
          "ename": "SyntaxError",
          "evalue": "ignored",
          "traceback": [
            "\u001b[0;36m  File \u001b[0;32m\"<ipython-input-10-b1afa685d702>\"\u001b[0;36m, line \u001b[0;32m2\u001b[0m\n\u001b[0;31m    3a4\u001b[0m\n\u001b[0m      ^\u001b[0m\n\u001b[0;31mSyntaxError\u001b[0m\u001b[0;31m:\u001b[0m invalid syntax\n"
          ]
        }
      ]
    },
    {
      "cell_type": "code",
      "source": [
        "compute_lst = list(map(int, input().split(' ')))\n",
        "compute_lst"
      ],
      "metadata": {
        "id": "o-LdTK7tJimv",
        "outputId": "2072643b-a7fc-4b13-9fc8-d9d11091218d",
        "colab": {
          "base_uri": "https://localhost:8080/"
        }
      },
      "execution_count": 8,
      "outputs": [
        {
          "name": "stdout",
          "output_type": "stream",
          "text": [
            "3 1 6 4\n"
          ]
        },
        {
          "output_type": "execute_result",
          "data": {
            "text/plain": [
              "[3, 1, 6, 4]"
            ]
          },
          "metadata": {},
          "execution_count": 8
        }
      ]
    },
    {
      "cell_type": "code",
      "execution_count": 30,
      "metadata": {
        "id": "ub-CQGeJLtLE",
        "outputId": "2b550640-d1cf-4af0-c134-2ce01acdea66",
        "colab": {
          "base_uri": "https://localhost:8080/"
        }
      },
      "outputs": [
        {
          "output_type": "stream",
          "name": "stdout",
          "text": [
            "6\n",
            "1 3 5 7 9 11\n",
            "1 2 1 1\n",
            "-1000000000\n",
            "1000000000\n"
          ]
        }
      ],
      "source": [
        "n = int(input())\n",
        "lst = list(map(int, input().split(' ')))\n",
        "compute_lst = list(map(int, input().split(' ')))\n",
        "max_val = -1000000000\n",
        "min_val = 1000000000\n",
        "\n",
        "\n",
        "# def plus(x, y):\n",
        "#   return x+y\n",
        "# def minus(x,y):\n",
        "#   return x-y\n",
        "# def multiply(x,y):\n",
        "#   return x*y\n",
        "# def divide(x,y):\n",
        "#   if x <0:\n",
        "#     return -(-x//y)\n",
        "#   else:\n",
        "#     return x//y\n",
        "\n",
        "def func(depth, computed_value, plus, minus, multiply, divide):\n",
        "  # print('뎁스',depth)\n",
        "  global max_val, min_val\n",
        "  if depth == n:\n",
        "    # print(max_val, computed_value)\n",
        "    max_val = max(computed_value, max_val)\n",
        "    min_val = min(computed_value, min_val)\n",
        "    return\n",
        "  \n",
        "  if plus:\n",
        "    # print('plus')\n",
        "    func(depth+1, computed_value+lst[depth], plus -1, minus, multiply, divide)\n",
        "  if minus:\n",
        "    # print('minus')\n",
        "    func(depth+1, computed_value-lst[depth], plus, minus-1, multiply, divide)\n",
        "  if multiply:\n",
        "    # print('multiply')\n",
        "    func(depth+1, computed_value*lst[depth], plus, minus, multiply-1, divide)\n",
        "  if divide:\n",
        "    # print('divide')\n",
        "    if computed_value <0:\n",
        "      func(depth+1, -(-computed_value//lst[depth]), plus, minus, multiply, divide-1)\n",
        "    else:\n",
        "      func(depth+1, computed_value//lst[depth], plus, minus, multiply, divide-1)\n",
        "\n",
        "func(1, lst[0], compute_lst[0],compute_lst[1], compute_lst[2], compute_lst[3])\n",
        "print(max_val)\n",
        "print(min_val)\n",
        "\n",
        "\n",
        "\n",
        "  \n"
      ]
    },
    {
      "cell_type": "code",
      "source": [
        "max_val"
      ],
      "metadata": {
        "id": "U7oVxF_uTnRB",
        "outputId": "4d9ef03f-cd23-44cd-e1e0-aa7632bf2c5f",
        "colab": {
          "base_uri": "https://localhost:8080/"
        }
      },
      "execution_count": 15,
      "outputs": [
        {
          "output_type": "execute_result",
          "data": {
            "text/plain": [
              "-1000000000"
            ]
          },
          "metadata": {},
          "execution_count": 15
        }
      ]
    },
    {
      "cell_type": "code",
      "source": [
        "min_val"
      ],
      "metadata": {
        "id": "SOQOwW9xT3qk",
        "outputId": "2dd0e72f-c5c6-4392-faa3-f464c8c72e76",
        "colab": {
          "base_uri": "https://localhost:8080/"
        }
      },
      "execution_count": 16,
      "outputs": [
        {
          "output_type": "execute_result",
          "data": {
            "text/plain": [
              "1000000000"
            ]
          },
          "metadata": {},
          "execution_count": 16
        }
      ]
    },
    {
      "cell_type": "code",
      "source": [
        ""
      ],
      "metadata": {
        "id": "wYZ5SO3qT45n"
      },
      "execution_count": null,
      "outputs": []
    }
  ]
}