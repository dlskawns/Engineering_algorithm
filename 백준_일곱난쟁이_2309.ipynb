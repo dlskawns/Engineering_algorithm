{
  "nbformat": 4,
  "nbformat_minor": 0,
  "metadata": {
    "colab": {
      "name": "백준_일곱난쟁이_2309.ipynb",
      "provenance": [],
      "authorship_tag": "ABX9TyN4Y6aFO936+ueABsWB9ryi",
      "include_colab_link": true
    },
    "kernelspec": {
      "name": "python3",
      "display_name": "Python 3"
    },
    "language_info": {
      "name": "python"
    }
  },
  "cells": [
    {
      "cell_type": "markdown",
      "metadata": {
        "id": "view-in-github",
        "colab_type": "text"
      },
      "source": [
        "<a href=\"https://colab.research.google.com/github/dlskawns/Engineering_algorithm/blob/main/%EB%B0%B1%EC%A4%80_%EC%9D%BC%EA%B3%B1%EB%82%9C%EC%9F%81%EC%9D%B4_2309.ipynb\" target=\"_parent\"><img src=\"https://colab.research.google.com/assets/colab-badge.svg\" alt=\"Open In Colab\"/></a>"
      ]
    },
    {
      "cell_type": "markdown",
      "source": [
        "## 문제\n",
        "\n",
        "왕비를 피해 일곱 난쟁이들과 함께 평화롭게 생활하고 있던 백설공주에게 위기가 찾아왔다. 일과를 마치고 돌아온 난쟁이가 일곱 명이 아닌 아홉 명이었던 것이다.\n",
        "\n",
        "아홉 명의 난쟁이는 모두 자신이 \"백설 공주와 일곱 난쟁이\"의 주인공이라고 주장했다. 뛰어난 수학적 직관력을 가지고 있던 백설공주는, 다행스럽게도 일곱 난쟁이의 키의 합이 100이 됨을 기억해 냈다.\n",
        "\n",
        "아홉 난쟁이의 키가 주어졌을 때, 백설공주를 도와 일곱 난쟁이를 찾는 프로그램을 작성하시오.\n",
        "\n",
        "## 입력\n",
        "\n",
        "아홉 개의 줄에 걸쳐 난쟁이들의 키가 주어진다. 주어지는 키는 100을 넘지 않는 자연수이며, 아홉 난쟁이의 키는 모두 다르며, 가능한 정답이 여러 가지인 경우에는 아무거나 출력한다.\n",
        "\n",
        "\n",
        "## 출력\n",
        "\n",
        "일곱 난쟁이의 키를 오름차순으로 출력한다. 일곱 난쟁이를 찾을 수 없는 경우는 없다."
      ],
      "metadata": {
        "id": "07v_2N1ulgvN"
      }
    },
    {
      "cell_type": "code",
      "execution_count": 18,
      "metadata": {
        "colab": {
          "base_uri": "https://localhost:8080/"
        },
        "id": "RV7TyhfaleGs",
        "outputId": "a827eaf4-a55c-4878-a14a-3436b21bbbb8"
      },
      "outputs": [
        {
          "output_type": "stream",
          "name": "stdout",
          "text": [
            "10\n",
            "20\n",
            "1\n",
            "9\n",
            "40\n",
            "90\n",
            "80\n",
            "13\n",
            "7\n",
            "1\n",
            "7\n",
            "9\n",
            "10\n",
            "13\n",
            "20\n",
            "40\n"
          ]
        }
      ],
      "source": [
        "\"\"\"\n",
        "1. 9개 중 7개 숫자의 합이 100인 경우를 우선 찾아야 한다.\n",
        "  * 이를 위해선 우선 9개의 숫자를 모두 리스트에 넣은 뒤 계산을 해야함\n",
        "2. 들어간 순서대로 두 개씩 지정해서 뺀 값이 100이 되는지 확인하고, 아닌 경우 하나씩 다음 것을 찾는다.\n",
        "\"\"\"\n",
        "\n",
        "lst = []\n",
        "for i in range(9):\n",
        "  lst.append(int(input()))\n",
        "\n",
        "for i in lst:\n",
        "  for j in lst:\n",
        "    if sum(lst) - i-j == 100:\n",
        "      i_fix = i\n",
        "      j_fix = j\n",
        "      break                   # 빠른 시간 내에 해답을 찾은 경우, 추가적으로 뒷부분을 하지않도록 한다. \n",
        "lst.remove(i_fix)\n",
        "lst.remove(j_fix)\n",
        "      # break\n",
        "for i in sorted(lst):\n",
        "  print(i)"
      ]
    },
    {
      "cell_type": "code",
      "source": [
        "22"
      ],
      "metadata": {
        "id": "g8Rapahb15M_"
      },
      "execution_count": null,
      "outputs": []
    }
  ]
}