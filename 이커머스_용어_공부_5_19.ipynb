{
  "nbformat": 4,
  "nbformat_minor": 0,
  "metadata": {
    "colab": {
      "name": "이커머스 용어 공부_5_19.ipynb",
      "provenance": [],
      "authorship_tag": "ABX9TyOsxwsAjr/IRs8A1+X3Arwi",
      "include_colab_link": true
    },
    "kernelspec": {
      "name": "python3",
      "display_name": "Python 3"
    },
    "language_info": {
      "name": "python"
    }
  },
  "cells": [
    {
      "cell_type": "markdown",
      "metadata": {
        "id": "view-in-github",
        "colab_type": "text"
      },
      "source": [
        "<a href=\"https://colab.research.google.com/github/dlskawns/Engineering_algorithm/blob/main/%EC%9D%B4%EC%BB%A4%EB%A8%B8%EC%8A%A4_%EC%9A%A9%EC%96%B4_%EA%B3%B5%EB%B6%80_5_19.ipynb\" target=\"_parent\"><img src=\"https://colab.research.google.com/assets/colab-badge.svg\" alt=\"Open In Colab\"/></a>"
      ]
    },
    {
      "cell_type": "markdown",
      "source": [
        "# 용어"
      ],
      "metadata": {
        "id": "HloXg2BVNwE5"
      }
    },
    {
      "cell_type": "markdown",
      "source": [
        "## 전환 (Conversion)\n",
        "\n",
        "웹사이트 내 방문자들의 유의미한 행동, 성과 등을 추정할 수 있는 지표"
      ],
      "metadata": {
        "id": "8Yy-ma0TN0Kf"
      }
    },
    {
      "cell_type": "markdown",
      "source": [
        "#### Macro Conversion: 홈페이지 내 최종 전환 \n",
        "#### Micro Convertion: 매크로가 되기 위한 보조 전환\n",
        "\n",
        "* 이러한 여러가지 Micro 전환이 발생함에 따라 Macro 전환으로 이어지게 된다.  "
      ],
      "metadata": {
        "id": "78W_UEDhOIUU"
      }
    },
    {
      "cell_type": "markdown",
      "source": [
        "## 고객 생애 가치 (CLV - Costomer Lifetime Value)"
      ],
      "metadata": {
        "id": "uuw3xT6xOgTB"
      }
    },
    {
      "cell_type": "markdown",
      "source": [
        "신규 고객 1명이 product 이용동안 얼만큼의 이익을 주는지의 지표  \n",
        "  -> 단일 고객 계정에서 기준 기간 동안 기대할 수 있는 총 수익(Total Revenue)\n",
        "* CLV가 상승한다면, 재구매가 증가하게 된다.\n",
        "* 성장하는 회사가 가장 지켜봐야 할 지표.\n",
        "\n",
        "**계산방법**\n",
        "\n",
        "* 평균 구매 가치(Average Purchase Value): 특정 기간 동안의 총 매출 / 총 구매 횟수  \n",
        "* 평균 구매 빈도율(Average Purchase Frequency Rate): 총 구매 횟수 / 총 구매 인원\n",
        "* 평균 구매 가치 * 평균 구매 빈도율 = 고객 가치(Customer Value)\n",
        "* 평균 고객 수명(Average customer Life) : 고객이 계속해서 구매하는 기간의 평균값\n",
        "  * 지정을 해야하는데, 예를 들어 매월로 파악한다면 근 1년 중 몇번의 월동안 구매행위가 일어났는지\n",
        "* 고객 생애 가치(Customer Life Value) : 평균 고객 수명 * 고객 가치\n",
        "  * 고객이 특정 기간 동안 가져다 줄 이익\n",
        "\n",
        "**활용방법**\n",
        "\n",
        "* 제품 별(요금제) 별 CLV를 세분화 해서 파악한다. \n",
        "* "
      ],
      "metadata": {
        "id": "EFt3kSOLOtOQ"
      }
    },
    {
      "cell_type": "markdown",
      "source": [
        ""
      ],
      "metadata": {
        "id": "Klh93D-rW7-z"
      }
    },
    {
      "cell_type": "markdown",
      "source": [
        "#### Reference \n",
        "CLV: \n",
        "* https://www.thedigitalmkt.com/how-to-calculate-customer-lifetime-value/  \n",
        "* https://blog.dighty.com/expert/?bmode=view&idx=11205811&t=board&src=image&kw=00002D"
      ],
      "metadata": {
        "id": "HWFkxQAi065L"
      }
    },
    {
      "cell_type": "markdown",
      "source": [
        "## RFM (Recency, Frequency, Monetary)\n",
        "\n",
        "* Recency: 최근성 -> 얼마나 최근에 행동(view, cart, purchase)을 했는가?\n",
        "* Frequency: 빈도 -> 특정 기간 동안 얼마나 자주 구매했는가?\n",
        "* Monetary: 금액 -> 특정 기간 동안 얼마의 매출을 만들었는가?\n",
        "\n",
        "### RFM 분석 방법\n",
        "\n",
        "* 고객 별로 Feature를 추가한다. R / F / M 관련\n",
        "* 해당 Feature를 바탕으로 고객 세분화를 진행한다. \n",
        "* 고객 세분화를 통해서 여러가지 인사이트를 도출해낸다.\n",
        "  * ex: \n",
        "    * 최근 7일 이내 구매한 고객\n",
        "    * 1달 이내 구매 횟수\n",
        "    * 1달 기간 동안 구매 금액 \n"
      ],
      "metadata": {
        "id": "7Shw9pncInz-"
      }
    },
    {
      "cell_type": "markdown",
      "source": [
        "RFM 참고: \n",
        "* https://mjrecord.tistory.com/m/12\n",
        "* https://velog.io/@syh0397/RFM-Segmentation-SQL\n",
        "* https://zephyrus1111.tistory.com/13?category=820621\n",
        "* https://ud803.github.io/%EB%8D%B0%EC%9D%B4%ED%84%B0%EB%B6%84%EC%84%9D/2022/04/25/%E1%84%83%E1%85%A6%E1%84%8B%E1%85%B5%E1%84%90%E1%85%A5%E1%84%87%E1%85%AE%E1%86%AB%E1%84%89%E1%85%A5%E1%86%A8-RFM-%E1%84%87%E1%85%AE%E1%86%AB%E1%84%89%E1%85%A5%E1%86%A8/"
      ],
      "metadata": {
        "id": "ANmw7bgS9iUP"
      }
    },
    {
      "cell_type": "code",
      "source": [
        ""
      ],
      "metadata": {
        "id": "iAErKvRnPS18"
      },
      "execution_count": null,
      "outputs": []
    }
  ]
}