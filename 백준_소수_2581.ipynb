{
  "nbformat": 4,
  "nbformat_minor": 0,
  "metadata": {
    "colab": {
      "name": "백준_소수_2581.ipynb",
      "provenance": [],
      "authorship_tag": "ABX9TyOEarWevlkdmfsjNI4F6soC",
      "include_colab_link": true
    },
    "kernelspec": {
      "name": "python3",
      "display_name": "Python 3"
    },
    "language_info": {
      "name": "python"
    }
  },
  "cells": [
    {
      "cell_type": "markdown",
      "metadata": {
        "id": "view-in-github",
        "colab_type": "text"
      },
      "source": [
        "<a href=\"https://colab.research.google.com/github/dlskawns/Engineering_algorithm/blob/main/%EB%B0%B1%EC%A4%80_%EC%86%8C%EC%88%98_2581.ipynb\" target=\"_parent\"><img src=\"https://colab.research.google.com/assets/colab-badge.svg\" alt=\"Open In Colab\"/></a>"
      ]
    },
    {
      "cell_type": "markdown",
      "source": [
        "# 문제\n",
        "자연수 M과 N이 주어질 때 M이상 N이하의 자연수 중 소수인 것을 모두 골라 이들 소수의 합과 최솟값을 찾는 프로그램을 작성하시오.\n",
        "\n",
        "예를 들어 M=60, N=100인 경우 60이상 100이하의 자연수 중 소수는 61, 67, 71, 73, 79, 83, 89, 97 총 8개가 있으므로, 이들 소수의 합은 620이고, 최솟값은 61이 된다.\n",
        "\n",
        "\n",
        "## 입력\n",
        "입력의 첫째 줄에 M이, 둘째 줄에 N이 주어진다.\n",
        "\n",
        "M과 N은 10,000이하의 자연수이며, M은 N보다 작거나 같다.\n",
        "\n",
        "\n",
        "## 출력\n",
        "M이상 N이하의 자연수 중 소수인 것을 모두 찾아 첫째 줄에 그 합을, 둘째 줄에 그 중 최솟값을 출력한다. \n",
        "\n",
        "단, M이상 N이하의 자연수 중 소수가 없을 경우는 첫째 줄에 -1을 출력한다."
      ],
      "metadata": {
        "id": "QXZ_EUKkUUf3"
      }
    },
    {
      "cell_type": "code",
      "execution_count": 14,
      "metadata": {
        "colab": {
          "base_uri": "https://localhost:8080/"
        },
        "id": "rXHRCfrRUO4d",
        "outputId": "cc45eebd-f4d2-47fc-aa61-a57b265506e8"
      },
      "outputs": [
        {
          "output_type": "stream",
          "name": "stdout",
          "text": [
            "1\n",
            "120\n",
            "1593\n",
            "2\n"
          ]
        }
      ],
      "source": [
        "first = int(input())\n",
        "last = int(input())\n",
        "lst = []\n",
        "for i in range(first, last+1):\n",
        "  if i == 2 or i == 3 or i == 5:\n",
        "    lst.append(i)\n",
        "  elif i %2 != 0 and i % 3 != 0 and i % 5 != 0 and i != 1:\n",
        "    P = 0 \n",
        "    for j in range(2, i):\n",
        "      if i % j == 0 :\n",
        "        P += 1\n",
        "    if P == 0:\n",
        "      lst.append(i)\n",
        "if len(lst) == 0:\n",
        "  print(-1)\n",
        "else:\n",
        "  sum_lst = sum(lst)\n",
        "  min_lst = min(lst)\n",
        "  print(sum_lst)\n",
        "  print(min_lst)"
      ]
    },
    {
      "cell_type": "code",
      "source": [
        "def func(x):\n",
        "  first, last = list(map(int, x.split()))\n",
        "  lst = []\n",
        "  for i in range(first, last+1):\n",
        "    if i == 2 or i == 3 or i == 5:\n",
        "      lst.append(i)\n",
        "    elif i %2 != 0 and i % 3 != 0 and i % 5 != 0 and i != 1:\n",
        "      P = 0 \n",
        "      for j in range(2, i):\n",
        "        if i % j == 0 :\n",
        "          P += 1\n",
        "      if P == 0:\n",
        "        lst.append(i)\n",
        "  if len(lst) == 0:\n",
        "    print(-1)\n",
        "  else:\n",
        "    sum_lst = sum(lst)\n",
        "    min_lst = min(lst)\n",
        "    print(sum_lst)\n",
        "    print(min_lst)\n",
        "func(input())"
      ],
      "metadata": {
        "id": "3oMvE8QOdbfI"
      },
      "execution_count": 10,
      "outputs": []
    },
    {
      "cell_type": "code",
      "source": [
        "func(input())"
      ],
      "metadata": {
        "colab": {
          "base_uri": "https://localhost:8080/"
        },
        "id": "HTTfOBotyFd4",
        "outputId": "cc64c750-18f6-4c50-f0a1-0d89b17633dc"
      },
      "execution_count": 11,
      "outputs": [
        {
          "output_type": "stream",
          "name": "stdout",
          "text": [
            "1 120\n",
            "1593\n",
            "2\n"
          ]
        }
      ]
    },
    {
      "cell_type": "code",
      "source": [
        ""
      ],
      "metadata": {
        "id": "vMhOLSHqyRZW"
      },
      "execution_count": null,
      "outputs": []
    }
  ]
}