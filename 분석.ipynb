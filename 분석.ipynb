{
  "nbformat": 4,
  "nbformat_minor": 0,
  "metadata": {
    "colab": {
      "name": "분석.ipynb",
      "provenance": [],
      "collapsed_sections": [],
      "authorship_tag": "ABX9TyPvaAGaz6O93DQIt3alMFcA",
      "include_colab_link": true
    },
    "kernelspec": {
      "name": "python3",
      "display_name": "Python 3"
    },
    "language_info": {
      "name": "python"
    }
  },
  "cells": [
    {
      "cell_type": "markdown",
      "metadata": {
        "id": "view-in-github",
        "colab_type": "text"
      },
      "source": [
        "<a href=\"https://colab.research.google.com/github/dlskawns/Engineering_algorithm/blob/main/%EB%B6%84%EC%84%9D.ipynb\" target=\"_parent\"><img src=\"https://colab.research.google.com/assets/colab-badge.svg\" alt=\"Open In Colab\"/></a>"
      ]
    },
    {
      "cell_type": "code",
      "source": [
        "# !sudo apt-get install -y fonts-nanum\n",
        "# !sudo fc-cache -fv\n",
        "# !rm ~/.cache/matplotlib -rf"
      ],
      "metadata": {
        "id": "vBHLC0xe22XA"
      },
      "execution_count": 1,
      "outputs": []
    },
    {
      "cell_type": "code",
      "execution_count": 2,
      "metadata": {
        "colab": {
          "base_uri": "https://localhost:8080/"
        },
        "id": "z8BzZT-S_t8S",
        "outputId": "326ad46d-5c41-400b-e2d7-0a24e1ccf782"
      },
      "outputs": [
        {
          "output_type": "stream",
          "name": "stdout",
          "text": [
            "Drive already mounted at /content/drive; to attempt to forcibly remount, call drive.mount(\"/content/drive\", force_remount=True).\n"
          ]
        }
      ],
      "source": [
        "from google.colab import drive\n",
        "\n",
        "drive.mount('/content/drive')"
      ]
    },
    {
      "cell_type": "code",
      "source": [
        "import pandas as pd\n",
        "\n",
        "df = pd.read_excel('/content/drive/MyDrive/[AIB] Section Survey (TypeForm).xlsx', sheet_name= 0)"
      ],
      "metadata": {
        "id": "uk3-TB_J_2po"
      },
      "execution_count": 82,
      "outputs": []
    },
    {
      "cell_type": "code",
      "source": [
        "# 나눔폰트 설치\n",
        "!apt-get update -qq\n",
        "!apt-get install fonts-nanum* -qq"
      ],
      "metadata": {
        "id": "fTSXYVw7jNKg"
      },
      "execution_count": 4,
      "outputs": []
    },
    {
      "cell_type": "code",
      "source": [
        "import matplotlib.pyplot as plt\n",
        "\n",
        "# df = df.drop(index = 0)\n",
        "\n",
        "df = df[df['개인 정보 수집 동의']=='동의']\n",
        "df = df.drop(columns = ['휴대폰 번호', 'Token','개인 정보 수집 동의'])\n",
        "df = df[(df['기수']==11) | (df['기수'] == 12)]\n"
      ],
      "metadata": {
        "id": "EQUrZNsTGC-Y"
      },
      "execution_count": 83,
      "outputs": []
    },
    {
      "cell_type": "code",
      "source": [
        ""
      ],
      "metadata": {
        "id": "KRZ7_0KiXtZs"
      },
      "execution_count": null,
      "outputs": []
    },
    {
      "cell_type": "markdown",
      "source": [
        "타사프로그램 경험자 수 분포"
      ],
      "metadata": {
        "id": "EhrKqJbbLLoR"
      }
    },
    {
      "cell_type": "code",
      "source": [
        "import matplotlib as mpl\n",
        "import matplotlib.font_manager as fm\n",
        "%matplotlib inline\n",
        "print ('버전: ', mpl.__version__)\n",
        "print ('설치 위치: ', mpl.__file__)\n",
        "print ('설정 위치: ', mpl.get_configdir())\n",
        "\n",
        "print ('캐시 위치: ', mpl.get_cachedir())"
      ],
      "metadata": {
        "colab": {
          "base_uri": "https://localhost:8080/"
        },
        "id": "N8zMfFfrNoqK",
        "outputId": "25b62a33-8d24-4ad5-ec32-4c6951a72d31"
      },
      "execution_count": 6,
      "outputs": [
        {
          "output_type": "stream",
          "name": "stdout",
          "text": [
            "버전:  3.2.2\n",
            "설치 위치:  /usr/local/lib/python3.7/dist-packages/matplotlib/__init__.py\n",
            "설정 위치:  /root/.config/matplotlib\n",
            "캐시 위치:  /root/.cache/matplotlib\n"
          ]
        }
      ]
    },
    {
      "cell_type": "code",
      "source": [
        "font_list = fm.findSystemFonts()"
      ],
      "metadata": {
        "id": "cB1kwJ7IOOyB"
      },
      "execution_count": 7,
      "outputs": []
    },
    {
      "cell_type": "code",
      "source": [
        "font_list"
      ],
      "metadata": {
        "colab": {
          "base_uri": "https://localhost:8080/"
        },
        "id": "hIS6Kw_JOXYK",
        "outputId": "2298af00-da4a-495c-d900-3278c29e8002"
      },
      "execution_count": 8,
      "outputs": [
        {
          "output_type": "execute_result",
          "data": {
            "text/plain": [
              "['/usr/share/fonts/truetype/nanum/NanumPen.ttf',\n",
              " '/usr/share/fonts/truetype/nanum/NanumGothicBold.ttf',\n",
              " '/usr/share/fonts/truetype/liberation/LiberationMono-Regular.ttf',\n",
              " '/usr/share/fonts/truetype/liberation/LiberationMono-Italic.ttf',\n",
              " '/usr/share/fonts/truetype/nanum/NanumBarunGothicLight.ttf',\n",
              " '/usr/share/fonts/truetype/liberation/LiberationSerif-Regular.ttf',\n",
              " '/usr/share/fonts/truetype/nanum/NanumMyeongjoBold.ttf',\n",
              " '/usr/share/fonts/truetype/nanum/NanumBarunGothicBold.ttf',\n",
              " '/usr/share/fonts/truetype/nanum/NanumGothicLight.ttf',\n",
              " '/usr/share/fonts/truetype/nanum/NanumBarunpenB.ttf',\n",
              " '/usr/share/fonts/truetype/nanum/NanumSquareRoundL.ttf',\n",
              " '/usr/share/fonts/truetype/liberation/LiberationMono-Bold.ttf',\n",
              " '/usr/share/fonts/truetype/nanum/NanumBrush.ttf',\n",
              " '/usr/share/fonts/truetype/liberation/LiberationSerif-Italic.ttf',\n",
              " '/usr/share/fonts/truetype/nanum/NanumSquareRoundB.ttf',\n",
              " '/usr/share/fonts/truetype/nanum/NanumGothic.ttf',\n",
              " '/usr/share/fonts/truetype/nanum/NanumGothicCoding.ttf',\n",
              " '/usr/share/fonts/truetype/nanum/NanumMyeongjoEcoExtraBold.ttf',\n",
              " '/usr/share/fonts/truetype/nanum/NanumGothicCoding-Bold.ttf',\n",
              " '/usr/share/fonts/truetype/liberation/LiberationSansNarrow-BoldItalic.ttf',\n",
              " '/usr/share/fonts/truetype/nanum/NanumBarunGothic.ttf',\n",
              " '/usr/share/fonts/truetype/nanum/NanumSquareRoundEB.ttf',\n",
              " '/usr/share/fonts/truetype/nanum/NanumMyeongjoEco.ttf',\n",
              " '/usr/share/fonts/truetype/liberation/LiberationSerif-Bold.ttf',\n",
              " '/usr/share/fonts/truetype/nanum/NanumBarunpenR.ttf',\n",
              " '/usr/share/fonts/truetype/nanum/NanumMyeongjo.ttf',\n",
              " '/usr/share/fonts/truetype/nanum/NanumGothicEco.ttf',\n",
              " '/usr/share/fonts/truetype/nanum/NanumGothicEcoExtraBold.ttf',\n",
              " '/usr/share/fonts/truetype/nanum/NanumSquareEB.ttf',\n",
              " '/usr/share/fonts/truetype/nanum/NanumBarunGothicUltraLight.ttf',\n",
              " '/usr/share/fonts/truetype/liberation/LiberationSans-BoldItalic.ttf',\n",
              " '/usr/share/fonts/truetype/liberation/LiberationMono-BoldItalic.ttf',\n",
              " '/usr/share/fonts/truetype/nanum/NanumSquareB.ttf',\n",
              " '/usr/share/fonts/truetype/liberation/LiberationSerif-BoldItalic.ttf',\n",
              " '/usr/share/fonts/truetype/nanum/NanumMyeongjoEcoBold.ttf',\n",
              " '/usr/share/fonts/truetype/humor-sans/Humor-Sans.ttf',\n",
              " '/usr/share/fonts/truetype/liberation/LiberationSans-Regular.ttf',\n",
              " '/usr/share/fonts/truetype/nanum/NanumSquareR.ttf',\n",
              " '/usr/share/fonts/truetype/liberation/LiberationSans-Bold.ttf',\n",
              " '/usr/share/fonts/truetype/nanum/NanumSquareL.ttf',\n",
              " '/usr/share/fonts/truetype/nanum/NanumGothicEcoBold.ttf',\n",
              " '/usr/share/fonts/truetype/liberation/LiberationSansNarrow-Italic.ttf',\n",
              " '/usr/share/fonts/truetype/nanum/NanumSquareRoundR.ttf',\n",
              " '/usr/share/fonts/truetype/nanum/NanumGothicExtraBold.ttf',\n",
              " '/usr/share/fonts/truetype/liberation/LiberationSansNarrow-Bold.ttf',\n",
              " '/usr/share/fonts/truetype/liberation/LiberationSans-Italic.ttf',\n",
              " '/usr/share/fonts/truetype/liberation/LiberationSansNarrow-Regular.ttf',\n",
              " '/usr/share/fonts/truetype/nanum/NanumMyeongjoExtraBold.ttf']"
            ]
          },
          "metadata": {},
          "execution_count": 8
        }
      ]
    },
    {
      "cell_type": "code",
      "source": [
        "from matplotlib import font_manager,rc\n",
        "font_path= '/usr/share/fonts/truetype/nanum/NanumGothic.ttf'\n",
        "font_name=font_manager.FontProperties(fname=font_path).get_name()\n",
        "rc('font',family=font_name)\n"
      ],
      "metadata": {
        "id": "frf1BBWfR1tc"
      },
      "execution_count": 9,
      "outputs": []
    },
    {
      "cell_type": "code",
      "source": [
        "sys_font=fm.findSystemFonts()\n",
        "print(f\"sys_font number: {len(sys_font)}\")\n",
        "\n",
        "nanum_font = [f for f in sys_font if 'Nanum' in f]\n",
        "print(f\"nanum_font number: {len(nanum_font)}\")"
      ],
      "metadata": {
        "colab": {
          "base_uri": "https://localhost:8080/"
        },
        "id": "xQb1VMHwlWvD",
        "outputId": "c462df6d-9add-4268-8b09-891f2c1be2b5"
      },
      "execution_count": 10,
      "outputs": [
        {
          "output_type": "stream",
          "name": "stdout",
          "text": [
            "sys_font number: 48\n",
            "nanum_font number: 31\n"
          ]
        }
      ]
    },
    {
      "cell_type": "code",
      "source": [
        "nanum_font"
      ],
      "metadata": {
        "colab": {
          "base_uri": "https://localhost:8080/"
        },
        "id": "KQvYhQY0lWtT",
        "outputId": "55b78662-7f40-4873-898b-6463473a2d29"
      },
      "execution_count": 11,
      "outputs": [
        {
          "output_type": "execute_result",
          "data": {
            "text/plain": [
              "['/usr/share/fonts/truetype/nanum/NanumPen.ttf',\n",
              " '/usr/share/fonts/truetype/nanum/NanumGothicBold.ttf',\n",
              " '/usr/share/fonts/truetype/nanum/NanumBarunGothicLight.ttf',\n",
              " '/usr/share/fonts/truetype/nanum/NanumMyeongjoBold.ttf',\n",
              " '/usr/share/fonts/truetype/nanum/NanumBarunGothicBold.ttf',\n",
              " '/usr/share/fonts/truetype/nanum/NanumGothicLight.ttf',\n",
              " '/usr/share/fonts/truetype/nanum/NanumBarunpenB.ttf',\n",
              " '/usr/share/fonts/truetype/nanum/NanumSquareRoundL.ttf',\n",
              " '/usr/share/fonts/truetype/nanum/NanumBrush.ttf',\n",
              " '/usr/share/fonts/truetype/nanum/NanumSquareRoundB.ttf',\n",
              " '/usr/share/fonts/truetype/nanum/NanumGothic.ttf',\n",
              " '/usr/share/fonts/truetype/nanum/NanumGothicCoding.ttf',\n",
              " '/usr/share/fonts/truetype/nanum/NanumMyeongjoEcoExtraBold.ttf',\n",
              " '/usr/share/fonts/truetype/nanum/NanumGothicCoding-Bold.ttf',\n",
              " '/usr/share/fonts/truetype/nanum/NanumBarunGothic.ttf',\n",
              " '/usr/share/fonts/truetype/nanum/NanumSquareRoundEB.ttf',\n",
              " '/usr/share/fonts/truetype/nanum/NanumMyeongjoEco.ttf',\n",
              " '/usr/share/fonts/truetype/nanum/NanumBarunpenR.ttf',\n",
              " '/usr/share/fonts/truetype/nanum/NanumMyeongjo.ttf',\n",
              " '/usr/share/fonts/truetype/nanum/NanumGothicEco.ttf',\n",
              " '/usr/share/fonts/truetype/nanum/NanumGothicEcoExtraBold.ttf',\n",
              " '/usr/share/fonts/truetype/nanum/NanumSquareEB.ttf',\n",
              " '/usr/share/fonts/truetype/nanum/NanumBarunGothicUltraLight.ttf',\n",
              " '/usr/share/fonts/truetype/nanum/NanumSquareB.ttf',\n",
              " '/usr/share/fonts/truetype/nanum/NanumMyeongjoEcoBold.ttf',\n",
              " '/usr/share/fonts/truetype/nanum/NanumSquareR.ttf',\n",
              " '/usr/share/fonts/truetype/nanum/NanumSquareL.ttf',\n",
              " '/usr/share/fonts/truetype/nanum/NanumGothicEcoBold.ttf',\n",
              " '/usr/share/fonts/truetype/nanum/NanumSquareRoundR.ttf',\n",
              " '/usr/share/fonts/truetype/nanum/NanumGothicExtraBold.ttf',\n",
              " '/usr/share/fonts/truetype/nanum/NanumMyeongjoExtraBold.ttf']"
            ]
          },
          "metadata": {},
          "execution_count": 11
        }
      ]
    },
    {
      "cell_type": "code",
      "source": [
        "# 현재 설정되어 있는 폰트 사이즈와 글꼴을 알아보자\n",
        "!python --version\n",
        "def current_font():\n",
        "  print(f\"설정 폰트 글꼴: {plt.rcParams['font.family']}, 설정 폰트 사이즈: {plt.rcParams['font.size']}\")  # 파이썬 3.6 이상 사용가능하다\n",
        "        \n",
        "current_font()"
      ],
      "metadata": {
        "colab": {
          "base_uri": "https://localhost:8080/"
        },
        "id": "p_QR8Rb7lWlr",
        "outputId": "49290045-cb5e-424f-ac6a-35247a6710ab"
      },
      "execution_count": 12,
      "outputs": [
        {
          "output_type": "stream",
          "name": "stdout",
          "text": [
            "Python 3.7.13\n",
            "설정 폰트 글꼴: ['NanumGothic'], 설정 폰트 사이즈: 10.0\n"
          ]
        }
      ]
    },
    {
      "cell_type": "code",
      "source": [
        "path = '/usr/share/fonts/truetype/nanum/NanumGothicEco.ttf'  # 설치된 나눔글꼴중 원하는 녀석의 전체 경로를 가져오자\n",
        "font_name = fm.FontProperties(fname=path, size=10).get_name()\n",
        "print(font_name)\n",
        "plt.rc('font', family=font_name)"
      ],
      "metadata": {
        "colab": {
          "base_uri": "https://localhost:8080/"
        },
        "id": "r3bE5-AElfM6",
        "outputId": "ba43a006-5115-458a-b63e-2d939bca709d"
      },
      "execution_count": 13,
      "outputs": [
        {
          "output_type": "stream",
          "name": "stdout",
          "text": [
            "NanumGothic Eco\n"
          ]
        }
      ]
    },
    {
      "cell_type": "code",
      "source": [
        ""
      ],
      "metadata": {
        "id": "mXATWp5YlWjJ"
      },
      "execution_count": 15,
      "outputs": []
    },
    {
      "cell_type": "code",
      "source": [
        "import warnings\n",
        "import matplotlib as mpl\n",
        "\n",
        "warnings.simplefilter(action='ignore', category=FutureWarning)\n",
        "\n",
        "fm._rebuild()\n",
        "plt.rcParams['figure.figsize'] = (10, 5)\n",
        "plt.hist(df['타사 프로그램 수강여부']);\n",
        "plt.title('타사 프로그램 수강여부 분포')\n",
        "plt.show()\n"
      ],
      "metadata": {
        "colab": {
          "base_uri": "https://localhost:8080/",
          "height": 335
        },
        "id": "W_U0HtByLjUc",
        "outputId": "53033f91-f7a9-4075-98a6-2df406531017"
      },
      "execution_count": 22,
      "outputs": [
        {
          "output_type": "display_data",
          "data": {
            "text/plain": [
              "<Figure size 720x360 with 1 Axes>"
            ],
            "image/png": "[encoded data removed]"
          },
          "metadata": {
            "needs_background": "light"
          }
        }
      ]
    },
    {
      "cell_type": "code",
      "source": [
        "plt.rcParams['figure.figsize'] = (10, 5)"
      ],
      "metadata": {
        "id": "9uRrnpFrTGFR"
      },
      "execution_count": 19,
      "outputs": []
    },
    {
      "cell_type": "code",
      "source": [
        "df.columns"
      ],
      "metadata": {
        "colab": {
          "base_uri": "https://localhost:8080/"
        },
        "id": "0gkDzovuJAXO",
        "outputId": "206cde93-6223-4fa7-81c2-64a4a326561a"
      },
      "execution_count": 21,
      "outputs": [
        {
          "output_type": "execute_result",
          "data": {
            "text/plain": [
              "Index(['기수', '연령 ', '성별 ', '최종학력', '전공 ', '타사 프로그램 수강여부', '타사 프로그램 만족도 ',\n",
              "       '지원 소요시간 ', '자기주도학습 점수 ', '근무 희망 분야 ', 'Section0 소요시간',\n",
              "       'Section0 이해도 점수 ', 'Section0 심리적 안전감 점수 ', 'Section0 Part1 도움된 항목 ',\n",
              "       'Section0 Part1 개선필요 항목', 'Section0 Part1 만족도 점수',\n",
              "       'Section0 Part1 추가의견', 'Section0 Part2 도움된 항목 ',\n",
              "       'Section0 Part2 개선필요 항목', 'Section0 Part2 만족도 점수 ',\n",
              "       'Section0 Part2 추가의견 ', '기타의견', 'name', 'userid', 'email',\n",
              "       'Submitted At'],\n",
              "      dtype='object')"
            ]
          },
          "metadata": {},
          "execution_count": 21
        }
      ]
    },
    {
      "cell_type": "code",
      "source": [
        "tasa = df[(df['타사 프로그램 수강여부'].notnull())&(df['타사 프로그램 수강여부']!='수강 경험 없음.')]"
      ],
      "metadata": {
        "id": "VELd5-ofJr0M"
      },
      "execution_count": 69,
      "outputs": []
    },
    {
      "cell_type": "code",
      "source": [
        "df['타사 프로그램 수강여부'].unique()"
      ],
      "metadata": {
        "colab": {
          "base_uri": "https://localhost:8080/"
        },
        "id": "iYcK0WzkORsR",
        "outputId": "53e17851-bdec-4a00-d2ff-ac49c0226e89"
      },
      "execution_count": 70,
      "outputs": [
        {
          "output_type": "execute_result",
          "data": {
            "text/plain": [
              "array(['수강 경험 없음.', '기타', '네이버 부스트캠프', '패스트캠퍼스', '앨리스', '멋쟁이사자처럼'],\n",
              "      dtype=object)"
            ]
          },
          "metadata": {},
          "execution_count": 70
        }
      ]
    },
    {
      "cell_type": "code",
      "source": [
        "df.columns"
      ],
      "metadata": {
        "colab": {
          "base_uri": "https://localhost:8080/"
        },
        "id": "z4-zZUagOmH5",
        "outputId": "f186e929-00fe-46dc-b643-407f91563154"
      },
      "execution_count": 71,
      "outputs": [
        {
          "output_type": "execute_result",
          "data": {
            "text/plain": [
              "Index(['기수', '연령 ', '성별 ', '최종학력', '전공 ', '타사 프로그램 수강여부', '타사 프로그램 만족도 ',\n",
              "       '지원 소요시간 ', '자기주도학습 점수 ', '근무 희망 분야 ', 'Section0 소요시간',\n",
              "       'Section0 이해도 점수 ', 'Section0 심리적 안전감 점수 ', 'Section0 Part1 도움된 항목 ',\n",
              "       'Section0 Part1 개선필요 항목', 'Section0 Part1 만족도 점수',\n",
              "       'Section0 Part1 추가의견', 'Section0 Part2 도움된 항목 ',\n",
              "       'Section0 Part2 개선필요 항목', 'Section0 Part2 만족도 점수 ',\n",
              "       'Section0 Part2 추가의견 ', '기타의견', 'name', 'userid', 'email',\n",
              "       'Submitted At'],\n",
              "      dtype='object')"
            ]
          },
          "metadata": {},
          "execution_count": 71
        }
      ]
    },
    {
      "cell_type": "code",
      "source": [
        "tasa['타사 프로그램 만족도 '] = tasa['타사 프로그램 만족도 '].map(lambda x: int(x[:1]))"
      ],
      "metadata": {
        "colab": {
          "base_uri": "https://localhost:8080/"
        },
        "id": "pv1wSj_kQXkn",
        "outputId": "3d8b2c01-a7bf-4942-d6b8-8847382a556c"
      },
      "execution_count": 72,
      "outputs": [
        {
          "output_type": "stream",
          "name": "stderr",
          "text": [
            "/usr/local/lib/python3.7/dist-packages/ipykernel_launcher.py:1: SettingWithCopyWarning: \n",
            "A value is trying to be set on a copy of a slice from a DataFrame.\n",
            "Try using .loc[row_indexer,col_indexer] = value instead\n",
            "\n",
            "See the caveats in the documentation: https://pandas.pydata.org/pandas-docs/stable/user_guide/indexing.html#returning-a-view-versus-a-copy\n",
            "  \"\"\"Entry point for launching an IPython kernel.\n"
          ]
        }
      ]
    },
    {
      "cell_type": "code",
      "source": [
        "plt.hist(df['심리적'])"
      ],
      "metadata": {
        "colab": {
          "base_uri": "https://localhost:8080/",
          "height": 1000
        },
        "id": "_K1shUFNRMxB",
        "outputId": "2226b939-d6bd-4570-e4e4-91888b42b883"
      },
      "execution_count": 73,
      "outputs": [
        {
          "output_type": "execute_result",
          "data": {
            "text/plain": [
              "      기수     연령  성별        최종학력                     전공  타사 프로그램 수강여부  \\\n",
              "13  12.0  26~29세  남성     대학교 졸업  전공자(컴퓨터, 통계, 수학, 전산 등)           기타   \n",
              "20  11.0  26~29세  남성     대학교 졸업            비 전공자(인문계 등)    네이버 부스트캠프   \n",
              "26  12.0  26~29세  남성     대학교 졸업        비 전공자(공학계열, 이공계)       패스트캠퍼스   \n",
              "28  11.0  26~29세  여성     대학교 졸업            비 전공자(인문계 등)          앨리스   \n",
              "39  12.0  20~25세  여성    고등학교 졸업  전공자(컴퓨터, 통계, 수학, 전산 등)       패스트캠퍼스   \n",
              "43  11.0  30~35세  남성     대학교 졸업            비 전공자(인문계 등)           기타   \n",
              "45  12.0  26~29세  남성     대학교 졸업  전공자(컴퓨터, 통계, 수학, 전산 등)           기타   \n",
              "47  12.0  26~29세  남성     대학교 졸업  전공자(컴퓨터, 통계, 수학, 전산 등)       패스트캠퍼스   \n",
              "51  12.0  26~29세  남성     대학교 졸업  전공자(컴퓨터, 통계, 수학, 전산 등)           기타   \n",
              "54  12.0  30~35세  남성     대학교 졸업  전공자(컴퓨터, 통계, 수학, 전산 등)           기타   \n",
              "58  11.0  26~29세  남성    고등학교 졸업            비 전공자(인문계 등)      멋쟁이사자처럼   \n",
              "66  12.0  26~29세  남성  대학원 졸업 이상            비 전공자(인문계 등)       패스트캠퍼스   \n",
              "\n",
              "    타사 프로그램 만족도  지원 소요시간  자기주도학습 점수        근무 희망 분야   ...  \\\n",
              "13             5     1~3일         6점       데이터사이언티스트  ...   \n",
              "20             6     1~3일         7점       데이터사이언티스트  ...   \n",
              "26             5     1~2주         6점       데이터사이언티스트  ...   \n",
              "28             4     1~3일         5점     마케팅(데이터 기반)  ...   \n",
              "39             7     2~3주         5점        데이터 엔지니어  ...   \n",
              "43             1     1~3일         5점       데이터사이언티스트  ...   \n",
              "45             4     4~7일         4점       데이터사이언티스트  ...   \n",
              "47             4     1~2주         5점        데이터 엔지니어  ...   \n",
              "51             4    4주 이상         3점  딥러닝 / 머신러닝엔지니어  ...   \n",
              "54             3     1~3일         3점  딥러닝 / 머신러닝엔지니어  ...   \n",
              "58             3     1~3일         3점          데이터분석가  ...   \n",
              "66             5     1~2주         5점  딥러닝 / 머신러닝엔지니어  ...   \n",
              "\n",
              "                                  Section0 Part1 추가의견  \\\n",
              "13                                                좋았다   \n",
              "20                                                 없음   \n",
              "26                                              만족합니다   \n",
              "28  초기에 마음을 한 번 더 다잡을 수 있는 영상들을 시청하고 부트캠프에 참여할 수 있...   \n",
              "39  그 전에 추가 읽기 자료에 나온 내용들이 중복적으로 많아서 시간이 더 걸리기도 하고...   \n",
              "43  헬프데스크나 이슈쉐어링이 있다는것은 봤었으나 금방까먹었습니다 섹션1시작할때 Q&A시...   \n",
              "45                                                  .   \n",
              "47                                               없습니다   \n",
              "51                                               없습니다   \n",
              "54                                              없습니다.   \n",
              "58                                                 없음   \n",
              "66                                                 없음   \n",
              "\n",
              "                               Section0 Part2 도움된 항목   \\\n",
              "13  Part2 AI Bootcamp Regulations Discord 활용하기, Pa...   \n",
              "20  Part2 AI Bootcamp Regulations K-Digital Traini...   \n",
              "26  Part2 AI Bootcamp Regulations K-Digital Traini...   \n",
              "28  Part2 AI Bootcamp Regulations 부트캠프 출석 방법 안내(Ur...   \n",
              "39  Part2 AI Bootcamp Regulations K-Digital Traini...   \n",
              "43  Part2 AI Bootcamp Regulations Discord 활용하기, Pa...   \n",
              "45  Part2 AI Bootcamp Regulations K-Digital Traini...   \n",
              "47       Part2 AI Bootcamp Regulations 코드스테이츠 커뮤니티 기준   \n",
              "51  Part2 AI Bootcamp Regulations 학습일정 캘린더 보는 방법- ...   \n",
              "54            Part2 AI Bootcamp Regulations Zoom 설정하기   \n",
              "58    Part2 AI Bootcamp Regulations KDT 과정 본인인증 기능 안내   \n",
              "66        Part2 AI Bootcamp Regulations Markdown 사용방법   \n",
              "\n",
              "                               Section0 Part2 개선필요 항목 Section0 Part2 만족도 점수   \\\n",
              "13        Part2 AI Bootcamp Regulations Markdown 사용방법                     5점   \n",
              "20       Part2 AI Bootcamp Regulations Check In 진행 절차                     4점   \n",
              "26    Part2 AI Bootcamp Regulations KDT 과정 본인인증 기능 안내                     4점   \n",
              "28  Part2 AI Bootcamp Regulations Markdown 사용방법, P...                     7점   \n",
              "39  Part2 AI Bootcamp Regulations Urclass 이메일 변경, ...                     5점   \n",
              "43  Part2 AI Bootcamp Regulations 과제제출방법 - Pull Re...                     4점   \n",
              "45        Part2 AI Bootcamp Regulations Markdown 사용방법                     5점   \n",
              "47  Part2 AI Bootcamp Regulations 학습일정 캘린더 보는 방법- ...                     7점   \n",
              "51             Part2 AI Bootcamp Regulations 과정 하차 절차                     7점   \n",
              "54  Part2 AI Bootcamp Regulations Zoom 설정하기, Part2...                     3점   \n",
              "58     Part2 AI Bootcamp Regulations Quiz - Tool 사용방법                     6점   \n",
              "66        Part2 AI Bootcamp Regulations 사적 커뮤니티 관련 규칙                     5점   \n",
              "\n",
              "                                 Section0 Part2 추가의견   \\\n",
              "13                                         좋았다. 유익했다.   \n",
              "20                                                 없음   \n",
              "26                                깃헙에 대한 유용한 사용 정보 교육   \n",
              "28  코렙을 처음 알게 되었어서 그 때 당시에 들어가는 방법을 몰라 헤맸었습니다. 좀 더...   \n",
              "39             과제 제출에 대한 짧은 피드백이라도 있었으면 더 좋았을 것 같습니다.   \n",
              "43  아무래도 깃허브 처음쓰는 입장에서는 너무 복잡하여 스프린트 마다 풀리퀘를 다시 해줘...   \n",
              "45                                                  .   \n",
              "47                                               없습니다   \n",
              "51                                               없습니다   \n",
              "54                                              없습니다.   \n",
              "58                                                 없음   \n",
              "66                                                 없음   \n",
              "\n",
              "                                                 기타의견 name userid  \\\n",
              "13                                            만족스러웠다.  박세현  44869   \n",
              "20  몇 주 전 일이라 기억이 가물가물한데, 첫날에 세션0도 다 보고 n111도 한다고 ...  노희섭  43307   \n",
              "26              Section0에 대한 사전 중요성 강조와 part들 간략하게 축소  황건하  27148   \n",
              "28  section 0을 개강 전날 오후에나 볼 수 있어서 빠르게 훑어볼 수 밖에 없었습...  최하림  42254   \n",
              "39  사전에 들을 코세라 강의도 많이 벅찼는데, 양이 너무 많아서 솔직히 조금 부담되었던...  이유엘  43232   \n",
              "43  코드스테이츠 커리큘럼에 대한 로드맵도 좋지만 전체적인 데이터직업군에 대한 로드맵과 ...  임서정  41027   \n",
              "45                                                  .  박석환  44481   \n",
              "47                                               없습니다  손무곤  44805   \n",
              "51                             기초수업 및 예제 활용함께진행하는수업방안  최정훈  44012   \n",
              "54                                              없습니다.  서성관  44762   \n",
              "58                                                 없음  남재용  40373   \n",
              "66                                                 없음  채승완  43432   \n",
              "\n",
              "                     email        Submitted At  \n",
              "13     harry0558@naver.com 2022-02-04 07:48:37  \n",
              "20       bs02010@naver.com 2022-02-04 08:19:44  \n",
              "26  rjsgk5792@gachon.ac.kr 2022-02-04 08:46:24  \n",
              "28     harim7898@naver.com 2022-02-04 08:55:39  \n",
              "39    ulul0.0lee@gmail.com 2022-02-04 11:30:56  \n",
              "43      limseo91@gmail.com 2022-02-04 13:34:55  \n",
              "45      opiiipoo@gmail.com 2022-02-05 14:34:52  \n",
              "47    moogon1211@gmail.com 2022-02-06 23:35:58  \n",
              "51    jeongssi94@gmail.com 2022-02-10 06:04:06  \n",
              "54       ths3847@gmail.com 2022-02-11 06:47:17  \n",
              "58         reosd@naver.com 2022-02-17 08:53:06  \n",
              "66    industry95@naver.com 2022-02-21 06:39:07  \n",
              "\n",
              "[12 rows x 26 columns]"
            ],
            "text/html": [
              "\n",
              "  <div id=\"df-1d50c84f-ae38-4853-ac8b-209f40182a25\">\n",
              "    <div class=\"colab-df-container\">\n",
              "      <div>\n",
              "<style scoped>\n",
              "    .dataframe tbody tr th:only-of-type {\n",
              "        vertical-align: middle;\n",
              "    }\n",
              "\n",
              "    .dataframe tbody tr th {\n",
              "        vertical-align: top;\n",
              "    }\n",
              "\n",
              "    .dataframe thead th {\n",
              "        text-align: right;\n",
              "    }\n",
              "</style>\n",
              "<table border=\"1\" class=\"dataframe\">\n",
              "  <thead>\n",
              "    <tr style=\"text-align: right;\">\n",
              "      <th></th>\n",
              "      <th>기수</th>\n",
              "      <th>연령</th>\n",
              "      <th>성별</th>\n",
              "      <th>최종학력</th>\n",
              "      <th>전공</th>\n",
              "      <th>타사 프로그램 수강여부</th>\n",
              "      <th>타사 프로그램 만족도</th>\n",
              "      <th>지원 소요시간</th>\n",
              "      <th>자기주도학습 점수</th>\n",
              "      <th>근무 희망 분야</th>\n",
              "      <th>...</th>\n",
              "      <th>Section0 Part1 추가의견</th>\n",
              "      <th>Section0 Part2 도움된 항목</th>\n",
              "      <th>Section0 Part2 개선필요 항목</th>\n",
              "      <th>Section0 Part2 만족도 점수</th>\n",
              "      <th>Section0 Part2 추가의견</th>\n",
              "      <th>기타의견</th>\n",
              "      <th>name</th>\n",
              "      <th>userid</th>\n",
              "      <th>email</th>\n",
              "      <th>Submitted At</th>\n",
              "    </tr>\n",
              "  </thead>\n",
              "  <tbody>\n",
              "    <tr>\n",
              "      <th>13</th>\n",
              "      <td>12.0</td>\n",
              "      <td>26~29세</td>\n",
              "      <td>남성</td>\n",
              "      <td>대학교 졸업</td>\n",
              "      <td>전공자(컴퓨터, 통계, 수학, 전산 등)</td>\n",
              "      <td>기타</td>\n",
              "      <td>5</td>\n",
              "      <td>1~3일</td>\n",
              "      <td>6점</td>\n",
              "      <td>데이터사이언티스트</td>\n",
              "      <td>...</td>\n",
              "      <td>좋았다</td>\n",
              "      <td>Part2 AI Bootcamp Regulations Discord 활용하기, Pa...</td>\n",
              "      <td>Part2 AI Bootcamp Regulations Markdown 사용방법</td>\n",
              "      <td>5점</td>\n",
              "      <td>좋았다. 유익했다.</td>\n",
              "      <td>만족스러웠다.</td>\n",
              "      <td>박세현</td>\n",
              "      <td>44869</td>\n",
              "      <td>harry0558@naver.com</td>\n",
              "      <td>2022-02-04 07:48:37</td>\n",
              "    </tr>\n",
              "    <tr>\n",
              "      <th>20</th>\n",
              "      <td>11.0</td>\n",
              "      <td>26~29세</td>\n",
              "      <td>남성</td>\n",
              "      <td>대학교 졸업</td>\n",
              "      <td>비 전공자(인문계 등)</td>\n",
              "      <td>네이버 부스트캠프</td>\n",
              "      <td>6</td>\n",
              "      <td>1~3일</td>\n",
              "      <td>7점</td>\n",
              "      <td>데이터사이언티스트</td>\n",
              "      <td>...</td>\n",
              "      <td>없음</td>\n",
              "      <td>Part2 AI Bootcamp Regulations K-Digital Traini...</td>\n",
              "      <td>Part2 AI Bootcamp Regulations Check In 진행 절차</td>\n",
              "      <td>4점</td>\n",
              "      <td>없음</td>\n",
              "      <td>몇 주 전 일이라 기억이 가물가물한데, 첫날에 세션0도 다 보고 n111도 한다고 ...</td>\n",
              "      <td>노희섭</td>\n",
              "      <td>43307</td>\n",
              "      <td>bs02010@naver.com</td>\n",
              "      <td>2022-02-04 08:19:44</td>\n",
              "    </tr>\n",
              "    <tr>\n",
              "      <th>26</th>\n",
              "      <td>12.0</td>\n",
              "      <td>26~29세</td>\n",
              "      <td>남성</td>\n",
              "      <td>대학교 졸업</td>\n",
              "      <td>비 전공자(공학계열, 이공계)</td>\n",
              "      <td>패스트캠퍼스</td>\n",
              "      <td>5</td>\n",
              "      <td>1~2주</td>\n",
              "      <td>6점</td>\n",
              "      <td>데이터사이언티스트</td>\n",
              "      <td>...</td>\n",
              "      <td>만족합니다</td>\n",
              "      <td>Part2 AI Bootcamp Regulations K-Digital Traini...</td>\n",
              "      <td>Part2 AI Bootcamp Regulations KDT 과정 본인인증 기능 안내</td>\n",
              "      <td>4점</td>\n",
              "      <td>깃헙에 대한 유용한 사용 정보 교육</td>\n",
              "      <td>Section0에 대한 사전 중요성 강조와 part들 간략하게 축소</td>\n",
              "      <td>황건하</td>\n",
              "      <td>27148</td>\n",
              "      <td>rjsgk5792@gachon.ac.kr</td>\n",
              "      <td>2022-02-04 08:46:24</td>\n",
              "    </tr>\n",
              "    <tr>\n",
              "      <th>28</th>\n",
              "      <td>11.0</td>\n",
              "      <td>26~29세</td>\n",
              "      <td>여성</td>\n",
              "      <td>대학교 졸업</td>\n",
              "      <td>비 전공자(인문계 등)</td>\n",
              "      <td>앨리스</td>\n",
              "      <td>4</td>\n",
              "      <td>1~3일</td>\n",
              "      <td>5점</td>\n",
              "      <td>마케팅(데이터 기반)</td>\n",
              "      <td>...</td>\n",
              "      <td>초기에 마음을 한 번 더 다잡을 수 있는 영상들을 시청하고 부트캠프에 참여할 수 있...</td>\n",
              "      <td>Part2 AI Bootcamp Regulations 부트캠프 출석 방법 안내(Ur...</td>\n",
              "      <td>Part2 AI Bootcamp Regulations Markdown 사용방법, P...</td>\n",
              "      <td>7점</td>\n",
              "      <td>코렙을 처음 알게 되었어서 그 때 당시에 들어가는 방법을 몰라 헤맸었습니다. 좀 더...</td>\n",
              "      <td>section 0을 개강 전날 오후에나 볼 수 있어서 빠르게 훑어볼 수 밖에 없었습...</td>\n",
              "      <td>최하림</td>\n",
              "      <td>42254</td>\n",
              "      <td>harim7898@naver.com</td>\n",
              "      <td>2022-02-04 08:55:39</td>\n",
              "    </tr>\n",
              "    <tr>\n",
              "      <th>39</th>\n",
              "      <td>12.0</td>\n",
              "      <td>20~25세</td>\n",
              "      <td>여성</td>\n",
              "      <td>고등학교 졸업</td>\n",
              "      <td>전공자(컴퓨터, 통계, 수학, 전산 등)</td>\n",
              "      <td>패스트캠퍼스</td>\n",
              "      <td>7</td>\n",
              "      <td>2~3주</td>\n",
              "      <td>5점</td>\n",
              "      <td>데이터 엔지니어</td>\n",
              "      <td>...</td>\n",
              "      <td>그 전에 추가 읽기 자료에 나온 내용들이 중복적으로 많아서 시간이 더 걸리기도 하고...</td>\n",
              "      <td>Part2 AI Bootcamp Regulations K-Digital Traini...</td>\n",
              "      <td>Part2 AI Bootcamp Regulations Urclass 이메일 변경, ...</td>\n",
              "      <td>5점</td>\n",
              "      <td>과제 제출에 대한 짧은 피드백이라도 있었으면 더 좋았을 것 같습니다.</td>\n",
              "      <td>사전에 들을 코세라 강의도 많이 벅찼는데, 양이 너무 많아서 솔직히 조금 부담되었던...</td>\n",
              "      <td>이유엘</td>\n",
              "      <td>43232</td>\n",
              "      <td>ulul0.0lee@gmail.com</td>\n",
              "      <td>2022-02-04 11:30:56</td>\n",
              "    </tr>\n",
              "    <tr>\n",
              "      <th>43</th>\n",
              "      <td>11.0</td>\n",
              "      <td>30~35세</td>\n",
              "      <td>남성</td>\n",
              "      <td>대학교 졸업</td>\n",
              "      <td>비 전공자(인문계 등)</td>\n",
              "      <td>기타</td>\n",
              "      <td>1</td>\n",
              "      <td>1~3일</td>\n",
              "      <td>5점</td>\n",
              "      <td>데이터사이언티스트</td>\n",
              "      <td>...</td>\n",
              "      <td>헬프데스크나 이슈쉐어링이 있다는것은 봤었으나 금방까먹었습니다 섹션1시작할때 Q&amp;A시...</td>\n",
              "      <td>Part2 AI Bootcamp Regulations Discord 활용하기, Pa...</td>\n",
              "      <td>Part2 AI Bootcamp Regulations 과제제출방법 - Pull Re...</td>\n",
              "      <td>4점</td>\n",
              "      <td>아무래도 깃허브 처음쓰는 입장에서는 너무 복잡하여 스프린트 마다 풀리퀘를 다시 해줘...</td>\n",
              "      <td>코드스테이츠 커리큘럼에 대한 로드맵도 좋지만 전체적인 데이터직업군에 대한 로드맵과 ...</td>\n",
              "      <td>임서정</td>\n",
              "      <td>41027</td>\n",
              "      <td>limseo91@gmail.com</td>\n",
              "      <td>2022-02-04 13:34:55</td>\n",
              "    </tr>\n",
              "    <tr>\n",
              "      <th>45</th>\n",
              "      <td>12.0</td>\n",
              "      <td>26~29세</td>\n",
              "      <td>남성</td>\n",
              "      <td>대학교 졸업</td>\n",
              "      <td>전공자(컴퓨터, 통계, 수학, 전산 등)</td>\n",
              "      <td>기타</td>\n",
              "      <td>4</td>\n",
              "      <td>4~7일</td>\n",
              "      <td>4점</td>\n",
              "      <td>데이터사이언티스트</td>\n",
              "      <td>...</td>\n",
              "      <td>.</td>\n",
              "      <td>Part2 AI Bootcamp Regulations K-Digital Traini...</td>\n",
              "      <td>Part2 AI Bootcamp Regulations Markdown 사용방법</td>\n",
              "      <td>5점</td>\n",
              "      <td>.</td>\n",
              "      <td>.</td>\n",
              "      <td>박석환</td>\n",
              "      <td>44481</td>\n",
              "      <td>opiiipoo@gmail.com</td>\n",
              "      <td>2022-02-05 14:34:52</td>\n",
              "    </tr>\n",
              "    <tr>\n",
              "      <th>47</th>\n",
              "      <td>12.0</td>\n",
              "      <td>26~29세</td>\n",
              "      <td>남성</td>\n",
              "      <td>대학교 졸업</td>\n",
              "      <td>전공자(컴퓨터, 통계, 수학, 전산 등)</td>\n",
              "      <td>패스트캠퍼스</td>\n",
              "      <td>4</td>\n",
              "      <td>1~2주</td>\n",
              "      <td>5점</td>\n",
              "      <td>데이터 엔지니어</td>\n",
              "      <td>...</td>\n",
              "      <td>없습니다</td>\n",
              "      <td>Part2 AI Bootcamp Regulations 코드스테이츠 커뮤니티 기준</td>\n",
              "      <td>Part2 AI Bootcamp Regulations 학습일정 캘린더 보는 방법- ...</td>\n",
              "      <td>7점</td>\n",
              "      <td>없습니다</td>\n",
              "      <td>없습니다</td>\n",
              "      <td>손무곤</td>\n",
              "      <td>44805</td>\n",
              "      <td>moogon1211@gmail.com</td>\n",
              "      <td>2022-02-06 23:35:58</td>\n",
              "    </tr>\n",
              "    <tr>\n",
              "      <th>51</th>\n",
              "      <td>12.0</td>\n",
              "      <td>26~29세</td>\n",
              "      <td>남성</td>\n",
              "      <td>대학교 졸업</td>\n",
              "      <td>전공자(컴퓨터, 통계, 수학, 전산 등)</td>\n",
              "      <td>기타</td>\n",
              "      <td>4</td>\n",
              "      <td>4주 이상</td>\n",
              "      <td>3점</td>\n",
              "      <td>딥러닝 / 머신러닝엔지니어</td>\n",
              "      <td>...</td>\n",
              "      <td>없습니다</td>\n",
              "      <td>Part2 AI Bootcamp Regulations 학습일정 캘린더 보는 방법- ...</td>\n",
              "      <td>Part2 AI Bootcamp Regulations 과정 하차 절차</td>\n",
              "      <td>7점</td>\n",
              "      <td>없습니다</td>\n",
              "      <td>기초수업 및 예제 활용함께진행하는수업방안</td>\n",
              "      <td>최정훈</td>\n",
              "      <td>44012</td>\n",
              "      <td>jeongssi94@gmail.com</td>\n",
              "      <td>2022-02-10 06:04:06</td>\n",
              "    </tr>\n",
              "    <tr>\n",
              "      <th>54</th>\n",
              "      <td>12.0</td>\n",
              "      <td>30~35세</td>\n",
              "      <td>남성</td>\n",
              "      <td>대학교 졸업</td>\n",
              "      <td>전공자(컴퓨터, 통계, 수학, 전산 등)</td>\n",
              "      <td>기타</td>\n",
              "      <td>3</td>\n",
              "      <td>1~3일</td>\n",
              "      <td>3점</td>\n",
              "      <td>딥러닝 / 머신러닝엔지니어</td>\n",
              "      <td>...</td>\n",
              "      <td>없습니다.</td>\n",
              "      <td>Part2 AI Bootcamp Regulations Zoom 설정하기</td>\n",
              "      <td>Part2 AI Bootcamp Regulations Zoom 설정하기, Part2...</td>\n",
              "      <td>3점</td>\n",
              "      <td>없습니다.</td>\n",
              "      <td>없습니다.</td>\n",
              "      <td>서성관</td>\n",
              "      <td>44762</td>\n",
              "      <td>ths3847@gmail.com</td>\n",
              "      <td>2022-02-11 06:47:17</td>\n",
              "    </tr>\n",
              "    <tr>\n",
              "      <th>58</th>\n",
              "      <td>11.0</td>\n",
              "      <td>26~29세</td>\n",
              "      <td>남성</td>\n",
              "      <td>고등학교 졸업</td>\n",
              "      <td>비 전공자(인문계 등)</td>\n",
              "      <td>멋쟁이사자처럼</td>\n",
              "      <td>3</td>\n",
              "      <td>1~3일</td>\n",
              "      <td>3점</td>\n",
              "      <td>데이터분석가</td>\n",
              "      <td>...</td>\n",
              "      <td>없음</td>\n",
              "      <td>Part2 AI Bootcamp Regulations KDT 과정 본인인증 기능 안내</td>\n",
              "      <td>Part2 AI Bootcamp Regulations Quiz - Tool 사용방법</td>\n",
              "      <td>6점</td>\n",
              "      <td>없음</td>\n",
              "      <td>없음</td>\n",
              "      <td>남재용</td>\n",
              "      <td>40373</td>\n",
              "      <td>reosd@naver.com</td>\n",
              "      <td>2022-02-17 08:53:06</td>\n",
              "    </tr>\n",
              "    <tr>\n",
              "      <th>66</th>\n",
              "      <td>12.0</td>\n",
              "      <td>26~29세</td>\n",
              "      <td>남성</td>\n",
              "      <td>대학원 졸업 이상</td>\n",
              "      <td>비 전공자(인문계 등)</td>\n",
              "      <td>패스트캠퍼스</td>\n",
              "      <td>5</td>\n",
              "      <td>1~2주</td>\n",
              "      <td>5점</td>\n",
              "      <td>딥러닝 / 머신러닝엔지니어</td>\n",
              "      <td>...</td>\n",
              "      <td>없음</td>\n",
              "      <td>Part2 AI Bootcamp Regulations Markdown 사용방법</td>\n",
              "      <td>Part2 AI Bootcamp Regulations 사적 커뮤니티 관련 규칙</td>\n",
              "      <td>5점</td>\n",
              "      <td>없음</td>\n",
              "      <td>없음</td>\n",
              "      <td>채승완</td>\n",
              "      <td>43432</td>\n",
              "      <td>industry95@naver.com</td>\n",
              "      <td>2022-02-21 06:39:07</td>\n",
              "    </tr>\n",
              "  </tbody>\n",
              "</table>\n",
              "<p>12 rows × 26 columns</p>\n",
              "</div>\n",
              "      <button class=\"colab-df-convert\" onclick=\"convertToInteractive('df-1d50c84f-ae38-4853-ac8b-209f40182a25')\"\n",
              "              title=\"Convert this dataframe to an interactive table.\"\n",
              "              style=\"display:none;\">\n",
              "        \n",
              "  <svg xmlns=\"http://www.w3.org/2000/svg\" height=\"24px\"viewBox=\"0 0 24 24\"\n",
              "       width=\"24px\">\n",
              "    <path d=\"M0 0h24v24H0V0z\" fill=\"none\"/>\n",
              "    <path d=\"M18.56 5.44l.94 2.06.94-2.06 2.06-.94-2.06-.94-.94-2.06-.94 2.06-2.06.94zm-11 1L8.5 8.5l.94-2.06 2.06-.94-2.06-.94L8.5 2.5l-.94 2.06-2.06.94zm10 10l.94 2.06.94-2.06 2.06-.94-2.06-.94-.94-2.06-.94 2.06-2.06.94z\"/><path d=\"M17.41 7.96l-1.37-1.37c-.4-.4-.92-.59-1.43-.59-.52 0-1.04.2-1.43.59L10.3 9.45l-7.72 7.72c-.78.78-.78 2.05 0 2.83L4 21.41c.39.39.9.59 1.41.59.51 0 1.02-.2 1.41-.59l7.78-7.78 2.81-2.81c.8-.78.8-2.07 0-2.86zM5.41 20L4 18.59l7.72-7.72 1.47 1.35L5.41 20z\"/>\n",
              "  </svg>\n",
              "      </button>\n",
              "      \n",
              "  <style>\n",
              "    .colab-df-container {\n",
              "      display:flex;\n",
              "      flex-wrap:wrap;\n",
              "      gap: 12px;\n",
              "    }\n",
              "\n",
              "    .colab-df-convert {\n",
              "      background-color: #E8F0FE;\n",
              "      border: none;\n",
              "      border-radius: 50%;\n",
              "      cursor: pointer;\n",
              "      display: none;\n",
              "      fill: #1967D2;\n",
              "      height: 32px;\n",
              "      padding: 0 0 0 0;\n",
              "      width: 32px;\n",
              "    }\n",
              "\n",
              "    .colab-df-convert:hover {\n",
              "      background-color: #E2EBFA;\n",
              "      box-shadow: 0px 1px 2px rgba(60, 64, 67, 0.3), 0px 1px 3px 1px rgba(60, 64, 67, 0.15);\n",
              "      fill: #174EA6;\n",
              "    }\n",
              "\n",
              "    [theme=dark] .colab-df-convert {\n",
              "      background-color: #3B4455;\n",
              "      fill: #D2E3FC;\n",
              "    }\n",
              "\n",
              "    [theme=dark] .colab-df-convert:hover {\n",
              "      background-color: #434B5C;\n",
              "      box-shadow: 0px 1px 3px 1px rgba(0, 0, 0, 0.15);\n",
              "      filter: drop-shadow(0px 1px 2px rgba(0, 0, 0, 0.3));\n",
              "      fill: #FFFFFF;\n",
              "    }\n",
              "  </style>\n",
              "\n",
              "      <script>\n",
              "        const buttonEl =\n",
              "          document.querySelector('#df-1d50c84f-ae38-4853-ac8b-209f40182a25 button.colab-df-convert');\n",
              "        buttonEl.style.display =\n",
              "          google.colab.kernel.accessAllowed ? 'block' : 'none';\n",
              "\n",
              "        async function convertToInteractive(key) {\n",
              "          const element = document.querySelector('#df-1d50c84f-ae38-4853-ac8b-209f40182a25');\n",
              "          const dataTable =\n",
              "            await google.colab.kernel.invokeFunction('convertToInteractive',\n",
              "                                                     [key], {});\n",
              "          if (!dataTable) return;\n",
              "\n",
              "          const docLinkHtml = 'Like what you see? Visit the ' +\n",
              "            '<a target=\"_blank\" href=https://colab.research.google.com/notebooks/data_table.ipynb>data table notebook</a>'\n",
              "            + ' to learn more about interactive tables.';\n",
              "          element.innerHTML = '';\n",
              "          dataTable['output_type'] = 'display_data';\n",
              "          await google.colab.output.renderOutput(dataTable, element);\n",
              "          const docLink = document.createElement('div');\n",
              "          docLink.innerHTML = docLinkHtml;\n",
              "          element.appendChild(docLink);\n",
              "        }\n",
              "      </script>\n",
              "    </div>\n",
              "  </div>\n",
              "  "
            ]
          },
          "metadata": {},
          "execution_count": 73
        }
      ]
    },
    {
      "cell_type": "code",
      "source": [
        "import pandas as pd\n",
        "\n",
        "df1 = pd.read_excel('/content/drive/MyDrive/[AIB] Section Survey (TypeForm).xlsx', sheet_name= 1)"
      ],
      "metadata": {
        "id": "mQW0iR4zSbSC"
      },
      "execution_count": 97,
      "outputs": []
    },
    {
      "cell_type": "code",
      "source": [
        "df1.columns"
      ],
      "metadata": {
        "colab": {
          "base_uri": "https://localhost:8080/"
        },
        "id": "e0K01Z4lcyLf",
        "outputId": "265524b5-3959-4157-b87c-0774e87ee23a"
      },
      "execution_count": 98,
      "outputs": [
        {
          "output_type": "execute_result",
          "data": {
            "text/plain": [
              "Index(['개인 정보 수집 동의 ', '휴대폰 번호', '기수', '연령 ', '성별 ', '최종학력 ', '전공 ',\n",
              "       '타사 프로그램 수강여부', '타사 프로그램 만족도', '소요시간 ', '자기주도학습 점수 ', '근무 희망 분야 ',\n",
              "       'Section0이 Section1 수강에 도움 된 정도 ',\n",
              "       'Section0 자료가 도움 된 것(Section1 기간 중) ', '자기주도학습 변화 ', 'sprint1 만족도 점수 ',\n",
              "       'sprint1 만족 세부', 'sprint1 불 만족 세부 ', 'sprint2 만족도 점수 ',\n",
              "       'sprint2 만족 세부 ', 'sprint2 불 만족 세부 ', 'sprint3 만족도 점수 ',\n",
              "       'sprint3 만족 세부 ', 'sprint3 불 만족 세부', 'sprint4 만족도 점수 ', 'sprint4 추가의견 ',\n",
              "       'Section1 이해하기 쉬운 수업 ', 'Section1 이해하기 어려운 수업 ', '본인 참여도 ',\n",
              "       '동료 수강생 참여도', 'Section1 심리적 안전감 점수 ', 'Section1 수강 전후 심리적 안전감 변화 ',\n",
              "       'Section1 수강 전후 심리적 안전감 변화 이유', '심리적 불안전 요인', '심리적 불안전 해소에 도움되는 것 ',\n",
              "       '기타의견', 'name', 'userid', 'email', 'Submitted At', 'Token'],\n",
              "      dtype='object')"
            ]
          },
          "metadata": {},
          "execution_count": 98
        }
      ]
    },
    {
      "cell_type": "code",
      "source": [
        "df1 = df1.drop(columns = ['email','userid','Token','Submitted At','휴대폰 번호'])\n",
        "df1 = df1[df1['개인 정보 수집 동의 ']=='동의'].drop(columns = '개인 정보 수집 동의 ')"
      ],
      "metadata": {
        "id": "8Bxda7-ScerA"
      },
      "execution_count": 99,
      "outputs": []
    },
    {
      "cell_type": "code",
      "source": [
        "df1['sprint1 만족도 점수 '] = df1['sprint1 만족도 점수 '].map(lambda x: x[:1])\n",
        "df1['sprint2 만족도 점수 '] = df1['sprint2 만족도 점수 '].map(lambda x: x[:1])\n",
        "df1['sprint3 만족도 점수 '] = df1['sprint3 만족도 점수 '].map(lambda x: x[:1])\n",
        "df1['sprint4 만족도 점수 '] = df1['sprint4 만족도 점수 '].map(lambda x: x[:1])\n"
      ],
      "metadata": {
        "id": "GwE5LSW7fpy2"
      },
      "execution_count": 108,
      "outputs": []
    },
    {
      "cell_type": "code",
      "source": [
        "df1['section 만족도 점수 ']"
      ],
      "metadata": {
        "id": "SxNjEJwRgpdc"
      },
      "execution_count": null,
      "outputs": []
    },
    {
      "cell_type": "code",
      "source": [
        "plt.hist(df['연령 '])"
      ],
      "metadata": {
        "colab": {
          "base_uri": "https://localhost:8080/",
          "height": 372
        },
        "id": "M6qVTO5LcfBU",
        "outputId": "bc88ece4-18bf-4fec-d8d2-be71b531c58c"
      },
      "execution_count": 102,
      "outputs": [
        {
          "output_type": "execute_result",
          "data": {
            "text/plain": [
              "(array([17.,  0., 33.,  0.,  0.,  9.,  0.,  3.,  0.,  1.]),\n",
              " array([0. , 0.4, 0.8, 1.2, 1.6, 2. , 2.4, 2.8, 3.2, 3.6, 4. ]),\n",
              " <a list of 10 Patch objects>)"
            ]
          },
          "metadata": {},
          "execution_count": 102
        },
        {
          "output_type": "display_data",
          "data": {
            "text/plain": [
              "<Figure size 720x360 with 1 Axes>"
            ],
            "image/png": "[encoded data removed]"
          },
          "metadata": {
            "needs_background": "light"
          }
        }
      ]
    },
    {
      "cell_type": "code",
      "source": [
        ""
      ],
      "metadata": {
        "id": "guvRzJ7sdMKl"
      },
      "execution_count": null,
      "outputs": []
    }
  ]
}