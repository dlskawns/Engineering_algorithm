{
  "nbformat": 4,
  "nbformat_minor": 0,
  "metadata": {
    "colab": {
      "name": "백준 약수구하기\t2501.ipynb",
      "provenance": [],
      "authorship_tag": "ABX9TyNOZ2x/WpfkxcCkhBZwSf4f",
      "include_colab_link": true
    },
    "kernelspec": {
      "name": "python3",
      "display_name": "Python 3"
    },
    "language_info": {
      "name": "python"
    }
  },
  "cells": [
    {
      "cell_type": "markdown",
      "metadata": {
        "id": "view-in-github",
        "colab_type": "text"
      },
      "source": [
        "<a href=\"https://colab.research.google.com/github/dlskawns/Engineering_algorithm/blob/main/%EB%B0%B1%EC%A4%80_%EC%95%BD%EC%88%98%EA%B5%AC%ED%95%98%EA%B8%B0%092501.ipynb\" target=\"_parent\"><img src=\"https://colab.research.google.com/assets/colab-badge.svg\" alt=\"Open In Colab\"/></a>"
      ]
    },
    {
      "cell_type": "markdown",
      "source": [
        "## 문제\n",
        "\n",
        "어떤 자연수 p와 q가 있을 때, 만일 p를 q로 나누었을 때 나머지가 0이면 q는 p의 약수이다. \n",
        "\n",
        "6을 예로 들면\n",
        "\n",
        "6 ÷ 1 = 6 … 0\n",
        "6 ÷ 2 = 3 … 0\n",
        "6 ÷ 3 = 2 … 0\n",
        "6 ÷ 4 = 1 … 2\n",
        "6 ÷ 5 = 1 … 1\n",
        "6 ÷ 6 = 1 … 0\n",
        "그래서 6의 약수는 1, 2, 3, 6, 총 네 개이다.\n",
        "\n",
        "두 개의 자연수 N과 K가 주어졌을 때, N의 약수들 중 K번째로 작은 수를 출력하는 프로그램을 작성하시오.\n",
        "\n",
        "## 입력\n",
        "첫째 줄에 N과 K가 빈칸을 사이에 두고 주어진다. N은 1 이상 10,000 이하이다. K는 1 이상 N 이하이다.\n",
        "\n",
        "## 출력\n",
        "첫째 줄에 N의 약수들 중 K번째로 작은 수를 출력한다. 만일 N의 약수의 개수가 K개보다 적어서 K번째 약수가 존재하지 않을 경우에는 0을 출력하시오."
      ],
      "metadata": {
        "id": "Knfb1cCwg7YQ"
      }
    },
    {
      "cell_type": "markdown",
      "source": [
        "#### 입력값\n",
        "6 3  \n",
        "25 4  \n",
        "2735 1\n",
        "#### 출력값\n",
        "3  \n",
        "0  \n",
        "1"
      ],
      "metadata": {
        "id": "h8cV4PKkgu1e"
      }
    },
    {
      "cell_type": "code",
      "execution_count": 14,
      "metadata": {
        "colab": {
          "base_uri": "https://localhost:8080/"
        },
        "id": "Cp-tvydYppyU",
        "outputId": "f4b0a02e-4e14-4a81-c008-630524e04082"
      },
      "outputs": [
        {
          "output_type": "stream",
          "name": "stdout",
          "text": [
            "2735 1\n",
            "1\n"
          ]
        }
      ],
      "source": [
        "N,K = map(int, input().split(' '))\n",
        "lst = []\n",
        "for i in range(1, N+1):\n",
        "  if N % i == 0:\n",
        "    lst.append(i)           # 약수 모으기\n",
        "    if len(lst) >= K:       \n",
        "      if lst[K-1] == i:\n",
        "        print(i)\n",
        "if len(lst) < K:\n",
        "  print(0)\n"
      ]
    },
    {
      "cell_type": "code",
      "source": [
        ""
      ],
      "metadata": {
        "id": "k5cd6S9wsacR"
      },
      "execution_count": 12,
      "outputs": []
    },
    {
      "cell_type": "code",
      "source": [
        ""
      ],
      "metadata": {
        "id": "EEGi5zjosoY1"
      },
      "execution_count": null,
      "outputs": []
    }
  ]
}