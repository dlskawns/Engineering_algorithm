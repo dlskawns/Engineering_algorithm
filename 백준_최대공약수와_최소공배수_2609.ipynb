{
  "nbformat": 4,
  "nbformat_minor": 0,
  "metadata": {
    "colab": {
      "name": "백준_최대공약수와 최소공배수_2609.ipynb",
      "provenance": [],
      "authorship_tag": "ABX9TyMKKjAB8Rq7JKHwlpx7HGMq",
      "include_colab_link": true
    },
    "kernelspec": {
      "name": "python3",
      "display_name": "Python 3"
    },
    "language_info": {
      "name": "python"
    }
  },
  "cells": [
    {
      "cell_type": "markdown",
      "metadata": {
        "id": "view-in-github",
        "colab_type": "text"
      },
      "source": [
        "<a href=\"https://colab.research.google.com/github/dlskawns/Engineering_algorithm/blob/main/%EB%B0%B1%EC%A4%80_%EC%B5%9C%EB%8C%80%EA%B3%B5%EC%95%BD%EC%88%98%EC%99%80_%EC%B5%9C%EC%86%8C%EA%B3%B5%EB%B0%B0%EC%88%98_2609.ipynb\" target=\"_parent\"><img src=\"https://colab.research.google.com/assets/colab-badge.svg\" alt=\"Open In Colab\"/></a>"
      ]
    },
    {
      "cell_type": "markdown",
      "source": [
        "## 문제\n",
        "\n",
        "두 개의 자연수를 입력받아 최대 공약수와 최소 공배수를 출력하는 프로그램을 작성하시오.\n",
        "\n",
        "## 입력\n",
        "\n",
        "첫째 줄에는 두 개의 자연수가 주어진다. 이 둘은 10,000이하의 자연수이며 사이에 한 칸의 공백이 주어진다.\n",
        "\n",
        "\n",
        "## 출력\n",
        "\n",
        "첫째 줄에는 입력으로 주어진 두 수의 최대공약수를, 둘째 줄에는 입력으로 주어진 두 수의 최소 공배수를 출력한다."
      ],
      "metadata": {
        "id": "9V0MraNB0o78"
      }
    },
    {
      "cell_type": "code",
      "execution_count": null,
      "metadata": {
        "id": "e04fEvFC0jmg"
      },
      "outputs": [],
      "source": [
        "list(map(int, input().split(' ')))\n"
      ]
    },
    {
      "cell_type": "code",
      "source": [
        "a = '36 57'\n",
        "one, two = list(map(int, a.split(' ')))"
      ],
      "metadata": {
        "id": "Vgu2pzxd8I4O"
      },
      "execution_count": 1,
      "outputs": []
    },
    {
      "cell_type": "code",
      "source": [
        ""
      ],
      "metadata": {
        "id": "jYqnUBBpMIHG"
      },
      "execution_count": null,
      "outputs": []
    },
    {
      "cell_type": "code",
      "source": [
        "\n",
        "def factor(x):\n",
        "  x_lst = [] \n",
        "  for i in range(1, x+1):\n",
        "    if x % i ==0:\n",
        "      x_lst.append(i)\n",
        "  return sorted(x_lst, reverse= True)\n",
        "\n",
        "# a = '36 57'\n",
        "# one, two = list(map(int, a.split(' ')))\n",
        "one, two = list(map(int, input().split(' ')))\n",
        "\n",
        "one_factor_lst = factor(one)\n",
        "two_factor_lst = factor(two)\n",
        "\n",
        "if one_factor_lst < two_factor_lst:\n",
        "  one_factor_lst, two_factor_lst = two_factor_lst, one_factor_lst\n",
        "\n",
        "\n",
        "breaker = False\n",
        "for i in one_factor_lst:\n",
        "  for j in two_factor_lst:\n",
        "    if i == j:\n",
        "      max_factor = i\n",
        "      breaker = True\n",
        "      break\n",
        "  if breaker == True:\n",
        "    break\n",
        "\n",
        "for i in range(1, 10000):\n",
        "  if i % one == 0 and i % two == 0:\n",
        "    min_multiple = i\n",
        "    break\n",
        "print(max_factor)\n",
        "print(min_multiple)\n",
        "\n",
        "\n",
        "    "
      ],
      "metadata": {
        "colab": {
          "base_uri": "https://localhost:8080/"
        },
        "id": "SGZ5xcc-8hur",
        "outputId": "8aa5e2f7-eb88-4ecb-bd33-cfa835f2f4e7"
      },
      "execution_count": 19,
      "outputs": [
        {
          "output_type": "stream",
          "name": "stdout",
          "text": [
            "35 65\n",
            "5\n",
            "455\n"
          ]
        }
      ]
    },
    {
      "cell_type": "code",
      "source": [
        "def factor(x):\n",
        "  x_lst = [] \n",
        "  for i in range(1, x+1):\n",
        "    if x % i ==0:\n",
        "      x_lst.append(i)\n",
        "  return sorted(x_lst, reverse= True)\n",
        "\n",
        "one, two = list(map(int, input().split(' ')))\n",
        "\n",
        "one_factor_lst = factor(one)\n",
        "two_factor_lst = factor(two)\n",
        "\n",
        "if one_factor_lst < two_factor_lst:\n",
        "  one_factor_lst, two_factor_lst = two_factor_lst, one_factor_lst\n",
        "\n",
        "max_factor = 0\n",
        "P = 0 \n",
        "for i in one_factor_lst:\n",
        "  for j in two_factor_lst:\n",
        "    if P == 0 and i == j:\n",
        "      max_factor = i\n",
        "      P += 1\n",
        "        \n",
        "min_multiple = 0        \n",
        "P = 0\n",
        "for i in range(1, 10000):\n",
        "  if P == 0 and i % one == 0 and i % two == 0:\n",
        "    min_multiple = i\n",
        "    P += 1\n",
        "for i in [max_factor, min_multiple ]:\n",
        "  print(i)\n"
      ],
      "metadata": {
        "colab": {
          "base_uri": "https://localhost:8080/"
        },
        "id": "SRm52Q5tFBlR",
        "outputId": "58ba560f-8627-4014-c75f-3de470c32963"
      },
      "execution_count": 35,
      "outputs": [
        {
          "output_type": "stream",
          "name": "stdout",
          "text": [
            "64 40\n",
            "8\n",
            "320\n"
          ]
        }
      ]
    },
    {
      "cell_type": "code",
      "source": [
        "# 유클리드 호제법 사용\n",
        "\n",
        "\n",
        "def gcd(a, b):\n",
        "  \"\"\"\n",
        "  최대공약수 구하는 함수\n",
        "  a = bx +r일때\n",
        "  a와 b의 최대공약수 == b와 r의 최대공약수\n",
        "  \"\"\"\n",
        "  if a<b:\n",
        "    a, b = b, a\n",
        "  if b<0:\n",
        "    return '연산 불가능'\n",
        "  if b != 0:\n",
        "    return gcd(b, a%b)\n",
        "  elif b == 0:\n",
        "    return a\n",
        "\n",
        "def lcd(a,b):\n",
        "  return a*b//gcd(a,b)\n",
        "\n",
        "def print_gcd_lcd(a,b):\n",
        "  print(gcd(a,b))\n",
        "  print(lcd(a,b))\n",
        "\n",
        "one, two = list(map(int, input().split(' ')))\n",
        "print_gcd_lcd(one, two)"
      ],
      "metadata": {
        "colab": {
          "base_uri": "https://localhost:8080/"
        },
        "id": "hXJC4s3cQ6Ha",
        "outputId": "646d718b-edca-4014-c94a-aa71ffcfc342"
      },
      "execution_count": 43,
      "outputs": [
        {
          "output_type": "stream",
          "name": "stdout",
          "text": [
            "40 64\n",
            "8\n",
            "320\n"
          ]
        }
      ]
    },
    {
      "cell_type": "code",
      "source": [
        ""
      ],
      "metadata": {
        "colab": {
          "base_uri": "https://localhost:8080/"
        },
        "id": "Mar5amD3U_TO",
        "outputId": "8fcc55ae-ef61-4747-e80c-02cb24db8d6c"
      },
      "execution_count": 41,
      "outputs": [
        {
          "output_type": "execute_result",
          "data": {
            "text/plain": [
              "320"
            ]
          },
          "metadata": {},
          "execution_count": 41
        }
      ]
    },
    {
      "cell_type": "code",
      "source": [
        ""
      ],
      "metadata": {
        "id": "Mxn25cjCVAem"
      },
      "execution_count": null,
      "outputs": []
    }
  ]
}