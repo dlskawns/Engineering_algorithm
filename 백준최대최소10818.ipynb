{
  "nbformat": 4,
  "nbformat_minor": 0,
  "metadata": {
    "colab": {
      "name": "백준최대최소.ipynb",
      "provenance": [],
      "authorship_tag": "ABX9TyOHnWQF3tcpGZdbvxMXJ4zK",
      "include_colab_link": true
    },
    "kernelspec": {
      "name": "python3",
      "display_name": "Python 3"
    },
    "language_info": {
      "name": "python"
    }
  },
  "cells": [
    {
      "cell_type": "markdown",
      "metadata": {
        "id": "view-in-github",
        "colab_type": "text"
      },
      "source": [
        "<a href=\"https://colab.research.google.com/github/dlskawns/Engineering_algorithm/blob/main/%EB%B0%B1%EC%A4%80%EC%B5%9C%EB%8C%80%EC%B5%9C%EC%86%8C10818.ipynb\" target=\"_parent\"><img src=\"https://colab.research.google.com/assets/colab-badge.svg\" alt=\"Open In Colab\"/></a>"
      ]
    },
    {
      "cell_type": "markdown",
      "source": [
        ""
      ],
      "metadata": {
        "id": "_ttLJR6mg7jJ"
      }
    },
    {
      "cell_type": "markdown",
      "source": [
        "## 문제\n",
        "\n",
        "N개의 정수가 주어진다. 이때, 최솟값과 최댓값을 구하는 프로그램을 작성하시오.\n",
        "\n",
        "## 입력\n",
        "첫째 줄에 정수의 개수 N (1 ≤ N ≤ 1,000,000)이 주어진다. 둘째 줄에는 N개의 정수를 공백으로 구분해서 주어진다. 모든 정수는 -1,000,000보다 크거나 같고, 1,000,000보다 작거나 같은 정수이다.\n",
        "\n",
        "## 출력\n",
        "첫째 줄에 주어진 정수 N개의 최솟값과 최댓값을 공백으로 구분해 출력한다."
      ],
      "metadata": {
        "id": "Knfb1cCwg7YQ"
      }
    },
    {
      "cell_type": "markdown",
      "source": [
        "#### 입력값\n",
        "\n",
        "5  \n",
        "20 10 35 30 7\n",
        "\n",
        "#### 출력값\n",
        "\n",
        "7 35"
      ],
      "metadata": {
        "id": "h8cV4PKkgu1e"
      }
    },
    {
      "cell_type": "code",
      "execution_count": 5,
      "metadata": {
        "colab": {
          "base_uri": "https://localhost:8080/"
        },
        "id": "6UF2xe-8glvI",
        "outputId": "04719502-a9e3-486c-833e-539d5309ee9a"
      },
      "outputs": [
        {
          "output_type": "stream",
          "name": "stdout",
          "text": [
            "5\n",
            "값을 입력하세요:20 10 35 30 7\n",
            "7 35\n",
            "내코드 시간 :  2.978455066680908\n",
            "5\n",
            "값을 입력하세요:20 10 35 30 7\n",
            "7 35\n",
            "베스트코드 시간 :  2.339759588241577\n"
          ]
        }
      ],
      "source": [
        "import time\n",
        "from sys import stdin, stdout\n",
        "\n",
        "def my_code():\n",
        "  n = input()\n",
        "  n2 = list(map(int,input('값을 입력하세요:').split(' ')))\n",
        "  print(f'{min(n2)} {max(n2)}')\n",
        "  # print('{} {}'.format(min(n2), max(n2)))\n",
        "\n",
        "def advised_code():\n",
        "  n = input()\n",
        "  n2 = list(map(int,input('값을 입력하세요:').split(' ')))\n",
        "  max_n = -1000000\n",
        "  min_n = 1000000\n",
        "  for i in n2:\n",
        "    if i <= min_n:\n",
        "      min_n = i\n",
        "    if i >= max_n:\n",
        "      max_n = i\n",
        "  print(f'{min_n} {max_n}')\n",
        "\n",
        "def main() :\n",
        "    start = time.time()\n",
        "    my_code()\n",
        "    print(\"내코드 시간 : \", time.time() - start)\n",
        "\n",
        "    start2 = time.time()\n",
        "    advised_code()\n",
        "    print(\"베스트코드 시간 : \", time.time() - start2)\n",
        "\n",
        "if __name__ == '__main__':\n",
        "  main()"
      ]
    },
    {
      "cell_type": "markdown",
      "source": [
        "#### 입력 배열 가속방법"
      ],
      "metadata": {
        "id": "K39cnj47oATd"
      }
    },
    {
      "cell_type": "code",
      "source": [
        "import sys \n",
        "N = int(sys.stdin.readline())\n",
        "sys.stdout.write(N)\n",
        "\n",
        "from sys import stdin, stdout\n",
        "\n",
        "input = stdin.readline\n",
        "print(stdout.write)"
      ],
      "metadata": {
        "id": "aqxd24j9lR_W"
      },
      "execution_count": null,
      "outputs": []
    },
    {
      "cell_type": "code",
      "source": [
        ""
      ],
      "metadata": {
        "id": "bDgB5fPNmbd5"
      },
      "execution_count": null,
      "outputs": []
    }
  ]
}